{
  "nbformat": 4,
  "nbformat_minor": 0,
  "metadata": {
    "colab": {
      "provenance": [],
      "collapsed_sections": [
        "TVUnp8zhZmUT",
        "Aca2WgCs68mG",
        "lUpvzMPzKEkf",
        "OZibUzIfk1tJ",
        "o-LG5-5InTur",
        "8cH1nUDErJ-M",
        "xGvLTz5Bvxz7",
        "hv5PY4sEz3_y",
        "HWZ3364c3b6p",
        "JzxG9zht5OAq",
        "TY9zWyQ250hZ"
      ],
      "toc_visible": true,
      "include_colab_link": true
    },
    "kernelspec": {
      "name": "python3",
      "display_name": "Python 3"
    },
    "language_info": {
      "name": "python"
    }
  },
  "cells": [
    {
      "cell_type": "markdown",
      "metadata": {
        "id": "view-in-github",
        "colab_type": "text"
      },
      "source": [
        "<a href=\"https://colab.research.google.com/github/diegoaguiardsa/Bootcamp_Analise_de_Dados_SoulCode/blob/main/Atividades/Python/Atividade_de_Fundamentos_de_Python.ipynb\" target=\"_parent\"><img src=\"https://colab.research.google.com/assets/colab-badge.svg\" alt=\"Open In Colab\"/></a>"
      ]
    },
    {
      "cell_type": "markdown",
      "source": [
        "# **Atividades de Python**\n",
        "\n",
        "Escola: SoulCode Academy\n",
        "\n",
        "Curso: Bootcamp Analista de Dados - Martech - AD2\n",
        "\n",
        "Período: Semana 4\n",
        "\n",
        "Professor: Franciane Rodrigues e Douglas Ribeiro\n",
        "\n",
        "Aluno: Diego Aguiar"
      ],
      "metadata": {
        "id": "PMUc_mnrDExx"
      }
    },
    {
      "cell_type": "markdown",
      "source": [
        "## **Exercícios de Estrutura de Condição**"
      ],
      "metadata": {
        "id": "Fl3KYag5nJH4"
      }
    },
    {
      "cell_type": "markdown",
      "source": [
        "1. Faça um algoritmo que leia um número inteiro e diga se ele é maior, menor ou igual a 10;\n",
        "2. Faça um algoritmo que leia dois números inteiros e apresente na tela o maior deles ou se eles são iguais;\n",
        "3. Crie um algoritmo que leia um número e diga se ele está no intervalo fechado entre 25 e 200;\n",
        "4. Crie um algoritmo que leia um número e informe na tela se o mesmo é positivo. Caso seja, mostre o número na tela;\n",
        "5. Crie um algoritmo que leia um número e informe se ele é divisível por 7.\n",
        "6. Crie um algoritmo que leia um número e diga se ele é par ou ímpar.\n",
        "7. Escreva um programa em Python que solicite ao usuário que digite uma letra. Em seguida, verifique se a letra digitada é uma vogal ou não.\n",
        "8. Escreva um programa que solicite ao usuário três notas de um aluno e calcule a média. Em seguida, exiba a média e uma mensagem informando se o aluno foi aprovado (média maior ou igual a 7) ou reprovado.\n",
        "9. Escreva um programa que solicite ao usuário os comprimentos dos três lados de um triângulo. Em seguida, exiba uma mensagem informando se o triângulo é equilátero (todos os lados iguais), isósceles (dois lados iguais) ou escaleno (todos os lados diferentes).\n",
        "10.  Escreva um programa que solicite ao usuário sua idade e exiba uma mensagem informando em qual faixa etária ele se encontra: criança (0-12 anos), adolescente (13-17 anos), adulto (18-59 anos) ou idoso (60 anos ou mais)."
      ],
      "metadata": {
        "id": "P6ZyvhJ11HJq"
      }
    },
    {
      "cell_type": "markdown",
      "source": [
        "### Questão 01\n"
      ],
      "metadata": {
        "id": "gLKHSnJIRLFT"
      }
    },
    {
      "cell_type": "markdown",
      "source": [
        "Faça um algoritmo que leia um número inteiro e diga se ele é maior, menor ou igual a 10;"
      ],
      "metadata": {
        "id": "1bCyojJR1BHV"
      }
    },
    {
      "cell_type": "code",
      "source": [
        "# 1. Faça um algoritmo que leia um número inteiro e diga se ele é maior,\n",
        "# menor ou igual a 10;\n",
        "numero = int(input(\"Digite um número: \"))\n",
        "\n",
        "if numero == 10:\n",
        "    print(\"O número digitado é igual dez.\")\n",
        "elif numero > 10:\n",
        "    print(\"O número digitado é maior que dez.\")\n",
        "else:\n",
        "    print(\"O número digitado é menor que dez.\")"
      ],
      "metadata": {
        "id": "6jQlec9mmPl6",
        "colab": {
          "base_uri": "https://localhost:8080/"
        },
        "outputId": "aeb00420-992d-4244-ca02-22dc21b20c7c"
      },
      "execution_count": null,
      "outputs": [
        {
          "output_type": "stream",
          "name": "stdout",
          "text": [
            "Digite um número: 51\n",
            "O número digitado é maior que dez.\n"
          ]
        }
      ]
    },
    {
      "cell_type": "markdown",
      "source": [
        "### Questão 02"
      ],
      "metadata": {
        "id": "RqvRKfVA0G1d"
      }
    },
    {
      "cell_type": "markdown",
      "source": [
        "Faça um algoritmo que leia dois números inteiros e apresente na tela o maior deles ou se eles são iguais;\n"
      ],
      "metadata": {
        "id": "qMPoYlGX0yaP"
      }
    },
    {
      "cell_type": "code",
      "source": [
        "# 2. Faça um algoritmo que leia dois números inteiros e apresente na tela o\n",
        "# maior deles ou se eles são iguais;\n",
        "numero1 = int(input(\"Digite o primeiro número: \"))\n",
        "numero2 = int(input(\"Digite o segundo número: \"))\n",
        "\n",
        "if numero1 == numero2:\n",
        "    print(\"Os números digitados são iguais.\")\n",
        "elif numero1 > numero2:\n",
        "    print(f\"{numero1} é o maior número.\")\n",
        "else:\n",
        "    print(f\"{numero2} é o maior número.\")"
      ],
      "metadata": {
        "id": "5A35qfT3nYzK",
        "colab": {
          "base_uri": "https://localhost:8080/"
        },
        "outputId": "034c81b8-00bf-48ef-8b07-ff6a7c9fc926"
      },
      "execution_count": null,
      "outputs": [
        {
          "output_type": "stream",
          "name": "stdout",
          "text": [
            "Digite o primeiro número: 5\n",
            "Digite o segundo número: 2\n",
            "5 é o maior número.\n"
          ]
        }
      ]
    },
    {
      "cell_type": "markdown",
      "source": [
        "### Questão 03"
      ],
      "metadata": {
        "id": "B96WHE_c0OKe"
      }
    },
    {
      "cell_type": "markdown",
      "source": [
        "Crie um algoritmo que leia um número e diga se ele está no intervalo fechado entre 25 e 200;\n"
      ],
      "metadata": {
        "id": "Nw9ROTCk0633"
      }
    },
    {
      "cell_type": "code",
      "source": [
        "# 3. Crie um algoritmo que leia um número e diga se ele está no intervalo\n",
        "# fechado entre 25 e 200;\n",
        "numero = float(input(\"Digite um número: \"))\n",
        "\n",
        "if numero >= 25 and numero <= 200:\n",
        "    print(\"O número digitado se encontra no intervalo fechado entre 25 e 200.\")\n",
        "else:\n",
        "    print(\"O número digitado não se encontra no intervalo fechado entre 25 e 200.\")"
      ],
      "metadata": {
        "id": "Gzbp7j4hncob",
        "colab": {
          "base_uri": "https://localhost:8080/"
        },
        "outputId": "89687296-bee8-466f-8131-258c977506ba"
      },
      "execution_count": null,
      "outputs": [
        {
          "output_type": "stream",
          "name": "stdout",
          "text": [
            "Digite um número: 24\n",
            "O número digitado não se encontra no intervalo fechado entre 25 e 200.\n"
          ]
        }
      ]
    },
    {
      "cell_type": "markdown",
      "source": [
        "### Questão 04"
      ],
      "metadata": {
        "id": "4pBWd6qA0RFF"
      }
    },
    {
      "cell_type": "markdown",
      "source": [
        "Crie um algoritmo que leia um número e informe na tela se o mesmo é positivo. Caso seja, mostre o número na tela;\n"
      ],
      "metadata": {
        "id": "eUU3qt_R1XLB"
      }
    },
    {
      "cell_type": "code",
      "source": [
        "# 4. Crie um algoritmo que leia um número e informe na tela se o mesmo é\n",
        "# positivo. Caso seja, mostre o número na tela;\n",
        "numero = float(input(\"Digite um número: \"))\n",
        "\n",
        "if numero == 0:\n",
        "    print(\"O número digitado é zero.\")\n",
        "elif numero > 0:\n",
        "    print(f\"O número digitado é {numero} e ele é positivo.\")\n",
        "else:\n",
        "    print(f\"O número digitado é {numero} e ele é negativo.\")"
      ],
      "metadata": {
        "id": "Ly9arhsTnfc2",
        "colab": {
          "base_uri": "https://localhost:8080/"
        },
        "outputId": "14b01193-08a5-4cb0-8a26-0bca060ef4be"
      },
      "execution_count": null,
      "outputs": [
        {
          "output_type": "stream",
          "name": "stdout",
          "text": [
            "Digite um número: 0.5\n",
            "O número digitado é 0.5 e ele é positivo.\n"
          ]
        }
      ]
    },
    {
      "cell_type": "markdown",
      "source": [
        "### Questão 05"
      ],
      "metadata": {
        "id": "2jduu_Tz0WQ1"
      }
    },
    {
      "cell_type": "markdown",
      "source": [
        "Crie um algoritmo que leia um número e informe se ele é divisível por 7.\n"
      ],
      "metadata": {
        "id": "RghbqRRh0XWH"
      }
    },
    {
      "cell_type": "code",
      "source": [
        "# 5. Crie um algoritmo que leia um número e informe se ele é divisível por 7.\n",
        "numero = int(input(\"Digite um número: \"))\n",
        "\n",
        "if numero % 7 == 0:\n",
        "    print(\"O número digitado é divisível por 7.\")\n",
        "else:\n",
        "    print(f\"O número digitado não é divisível por 7 e o resto é {numero % 7}.\")\n"
      ],
      "metadata": {
        "id": "7xGuvTjNnsj8",
        "colab": {
          "base_uri": "https://localhost:8080/"
        },
        "outputId": "8e709531-0eb8-418d-8517-fb4d5e555e21"
      },
      "execution_count": null,
      "outputs": [
        {
          "output_type": "stream",
          "name": "stdout",
          "text": [
            "Digite um número: 95\n",
            "O número digitado não é divisível por 7 e o resto é 4.\n"
          ]
        }
      ]
    },
    {
      "cell_type": "markdown",
      "source": [
        "### Questão 06"
      ],
      "metadata": {
        "id": "_wE-7SfL0YVf"
      }
    },
    {
      "cell_type": "markdown",
      "source": [
        "Crie um algoritmo que leia um número e diga se ele é par ou ímpar.\n"
      ],
      "metadata": {
        "id": "w02AkHYV0aB6"
      }
    },
    {
      "cell_type": "code",
      "source": [
        "# 6. Crie um algoritmo que leia um número e diga se ele é par ou ímpar.\n",
        "numero = int(input(\"Digite um número: \"))\n",
        "\n",
        "if numero % 2 == 0:\n",
        "    print(\"O número digitado é par.\")\n",
        "else:\n",
        "    print(\"O número digitado é ímpar.\")"
      ],
      "metadata": {
        "id": "TaPu5ZnCnvJS",
        "colab": {
          "base_uri": "https://localhost:8080/"
        },
        "outputId": "6cc6e2dc-40c3-472f-e780-4a61084f4af3"
      },
      "execution_count": null,
      "outputs": [
        {
          "output_type": "stream",
          "name": "stdout",
          "text": [
            "Digite um número: 789\n",
            "O número digitado é ímpar.\n"
          ]
        }
      ]
    },
    {
      "cell_type": "markdown",
      "source": [
        "### Questão 07"
      ],
      "metadata": {
        "id": "wxjHTu_B0gs3"
      }
    },
    {
      "cell_type": "markdown",
      "source": [
        "Escreva um programa em Python que solicite ao usuário que digite uma letra. Em seguida, verifique se a letra digitada é uma vogal ou não.\n"
      ],
      "metadata": {
        "id": "HsYQW3Zq0iUT"
      }
    },
    {
      "cell_type": "code",
      "source": [
        "# 7. Escreva um programa em Python que solicite ao usuário que digite uma letra.\n",
        "# Em seguida, verifique se a letra digitada é uma vogal ou não.\n",
        "letra = input(\"Digite uma letra: \")\n",
        "letra = letra.lower()\n",
        "\n",
        "if letra == 'a' or letra == 'e' or letra == 'i' or letra == 'o' or letra == 'u':\n",
        "    print(\"A letra digitada é uma vogal.\")\n",
        "else:\n",
        "    print(\"A letra digitada não é uma vogal.\")"
      ],
      "metadata": {
        "id": "0_FtUKotwXQn",
        "colab": {
          "base_uri": "https://localhost:8080/"
        },
        "outputId": "6297f098-de47-42eb-d59d-ef7a4a0d6979"
      },
      "execution_count": null,
      "outputs": [
        {
          "output_type": "stream",
          "name": "stdout",
          "text": [
            "Digite uma letra: b\n",
            "A letra digitada não é uma vogal.\n"
          ]
        }
      ]
    },
    {
      "cell_type": "markdown",
      "source": [
        "### Questão 08"
      ],
      "metadata": {
        "id": "Gf63nxIv0jj2"
      }
    },
    {
      "cell_type": "markdown",
      "source": [
        "Escreva um programa que solicite ao usuário três notas de um aluno e calcule a média. Em seguida, exiba a média e uma mensagem informando se o aluno foi aprovado (média maior ou igual a 7) ou reprovado.\n"
      ],
      "metadata": {
        "id": "oLUB14220lHS"
      }
    },
    {
      "cell_type": "code",
      "source": [
        "# 8. Escreva um programa que solicite ao usuário três notas de um aluno e\n",
        "# calcule a média. Em seguida, exiba a média e uma mensagem informando se o\n",
        "# aluno foi aprovado (média maior ou igual a 7) ou reprovado.\n",
        "nota1 = float(input(\"Digite a primeira nota: \"))\n",
        "nota2 = float(input(\"Digite a segunda nota: \"))\n",
        "nota3 = float(input(\"Digite a terceira nota: \"))\n",
        "\n",
        "media = (nota1+nota2+nota3)/3\n",
        "if media >= 7 :\n",
        "    print(f\"O aluno foi aprovado com média {media:.2f}.\")\n",
        "else:\n",
        "    print(f\"O aluno foi reprovado com média {media:.2f}.\")"
      ],
      "metadata": {
        "id": "PKicuy44wdWI",
        "colab": {
          "base_uri": "https://localhost:8080/"
        },
        "outputId": "f4429db9-4373-4b56-c400-df6fc56adf62"
      },
      "execution_count": null,
      "outputs": [
        {
          "output_type": "stream",
          "name": "stdout",
          "text": [
            "Digite a primeira nota: 8\n",
            "Digite a segunda nota: 7\n",
            "Digite a terceira nota: 6\n",
            "O aluno foi aprovado com média 7.00.\n"
          ]
        }
      ]
    },
    {
      "cell_type": "markdown",
      "source": [
        "### Questão 09"
      ],
      "metadata": {
        "id": "3sfrxX2J0mch"
      }
    },
    {
      "cell_type": "markdown",
      "source": [
        "Escreva um programa que solicite ao usuário os comprimentos dos três lados de um triângulo. Em seguida, exiba uma mensagem informando se o triângulo é equilátero (todos os lados iguais), isósceles (dois lados iguais) ou escaleno (todos os lados diferentes)."
      ],
      "metadata": {
        "id": "obQfDYbo0nUZ"
      }
    },
    {
      "cell_type": "code",
      "source": [
        "# 9. Escreva um programa que solicite ao usuário os comprimentos dos três lados\n",
        "# de um triângulo.Em seguida, exiba uma mensagem informando se o triângulo\n",
        "# é equilátero (todos os lados iguais), isósceles (dois lados iguais) ou\n",
        "# escaleno (todos os lados diferentes).\n",
        "verifica = True\n",
        "lado1 = float(input(\"Digite comprimento do primero lado do triângulo: \"))\n",
        "lado2 = float(input(\"Digite comprimento do segundo lado do triângulo: \"))\n",
        "lado3 = float(input(\"Digite comprimento do terceiro lado do triângulo: \"))\n",
        "\n",
        "if lado1 + lado2 > lado3 and lado1 + lado3 > lado2 and lado2 + lado3 > lado1:\n",
        "  if lado1 == lado2 and lado1 == lado3 :\n",
        "      print(f\"O trinângulo é equilátero de lados a = {lado1}, b = {lado2} e c = {lado3}\")\n",
        "  elif lado1 == lado2  or lado1 == lado3 or lado3 == lado2:\n",
        "      print(f\"O trinângulo é isóceles de lados a = {lado1}, b = {lado2} e c = {lado3}\")\n",
        "  else:\n",
        "      print(f\"O trinângulo é escaleno de lados a = {lado1}, b = {lado2} e c = {lado3}\")\n",
        "else:\n",
        "  print(\"As medidas não formam um triângulo\")"
      ],
      "metadata": {
        "id": "fT3u4lllwiqJ",
        "colab": {
          "base_uri": "https://localhost:8080/"
        },
        "outputId": "14dd5010-bc17-4429-e718-55cd8f4b0ca8"
      },
      "execution_count": null,
      "outputs": [
        {
          "output_type": "stream",
          "name": "stdout",
          "text": [
            "Digite comprimento do primero lado do triângulo: 3\n",
            "Digite comprimento do segundo lado do triângulo: 4\n",
            "Digite comprimento do terceiro lado do triângulo: 5\n",
            "O trinângulo é escaleno de lados a = 3.0, b = 4.0 e c = 5.0\n"
          ]
        }
      ]
    },
    {
      "cell_type": "markdown",
      "source": [
        "### Questão 10"
      ],
      "metadata": {
        "id": "LvgQE9oJ0og1"
      }
    },
    {
      "cell_type": "markdown",
      "source": [
        "Escreva um programa que solicite ao usuário sua idade e exiba uma mensagem informando em qual faixa etária ele se encontra: criança (0-12 anos), adolescente (13-17 anos), adulto (18-59 anos) ou idoso (60 anos ou mais)."
      ],
      "metadata": {
        "id": "ko0HTO3A0rw6"
      }
    },
    {
      "cell_type": "code",
      "source": [
        "# 10.  Escreva um programa que solicite ao usuário sua idade e exiba uma\n",
        "# mensagem informando em qual faixa etária ele se encontra: criança (0-12 anos),\n",
        "# adolescente (13-17 anos), adulto (18-59 anos) ou idoso (60 anos ou mais).\n",
        "numero = int(input(\"Digite a sua idade: \"))\n",
        "\n",
        "if numero >= 0 and numero <= 12:\n",
        "    print(\"Você é uma criança\")\n",
        "elif numero >= 13 and numero <= 17:\n",
        "    print(\"Você é um adolescente\")\n",
        "elif numero >= 18 and numero <= 59:\n",
        "    print(\"Você é um adulto\")\n",
        "elif numero >= 60:\n",
        "    print(\"Você é um idoso\")\n",
        "else:\n",
        "    print(\"A idade foi digitada de maneira incorreta.\")"
      ],
      "metadata": {
        "id": "rE9e-B_GwoAl",
        "colab": {
          "base_uri": "https://localhost:8080/"
        },
        "outputId": "cb7cd526-d400-460f-be07-80270480f540"
      },
      "execution_count": null,
      "outputs": [
        {
          "output_type": "stream",
          "name": "stdout",
          "text": [
            "Digite a sua idade: 59\n",
            "Você é um adulto\n"
          ]
        }
      ]
    },
    {
      "cell_type": "code",
      "source": [],
      "metadata": {
        "id": "TcTcpsaYRcBJ"
      },
      "execution_count": null,
      "outputs": []
    }
  ]
}