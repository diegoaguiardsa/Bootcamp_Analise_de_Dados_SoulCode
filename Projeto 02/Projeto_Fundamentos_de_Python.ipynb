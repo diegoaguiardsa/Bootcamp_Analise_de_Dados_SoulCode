{
  "nbformat": 4,
  "nbformat_minor": 0,
  "metadata": {
    "colab": {
      "provenance": [],
      "include_colab_link": true
    },
    "kernelspec": {
      "name": "python3",
      "display_name": "Python 3"
    },
    "language_info": {
      "name": "python"
    }
  },
  "cells": [
    {
      "cell_type": "markdown",
      "metadata": {
        "id": "view-in-github",
        "colab_type": "text"
      },
      "source": [
        "<a href=\"https://colab.research.google.com/github/diegoaguiardsa/Bootcamp_Analise_de_Dados_SoulCode/blob/main/Projeto_Fundamentos_de_Python.ipynb\" target=\"_parent\"><img src=\"https://colab.research.google.com/assets/colab-badge.svg\" alt=\"Open In Colab\"/></a>"
      ]
    },
    {
      "cell_type": "markdown",
      "source": [
        "# **Projeto - Fundamentos de Python**\n",
        "\n",
        "Escola: SoulCode Academy\n",
        "\n",
        "Curso: Bootcamp Analista de Dados - Martech - AD2\n",
        "\n",
        "Período: Semana 4\n",
        "\n",
        "Professor: Franciane Rodrigues e Douglas Ribeiro\n",
        "\n",
        "Aluno: Diego Aguiar"
      ],
      "metadata": {
        "id": "J2eDmNlYTvYi"
      }
    },
    {
      "cell_type": "markdown",
      "source": [
        "## **Medidas Descritivas**\n"
      ],
      "metadata": {
        "id": "Y_NqzpijDI5c"
      }
    },
    {
      "cell_type": "markdown",
      "source": [
        "### Introdução\n",
        "\n"
      ],
      "metadata": {
        "id": "v6PYH8z11eTn"
      }
    },
    {
      "cell_type": "markdown",
      "source": [
        "Às vezes é necessário resumir certas características das distribuições de dados (ou mesmo de frequências dados) por meio de certas quantidades.\n",
        "\n",
        "Tais quantidades são usualmente denominadas de Medidas, por quantificarem alguns aspectos de nosso interesse.\n",
        "\n",
        "Nosso objetivo é apresentar algumas das chamadas **Medidas de Posição** bem como, algumas **Medidas de Dispersão** consideradas mais importantes no campo da aplicabilidade prática do nosso dia a dia.\n",
        "\n",
        "Tais medidas servem para:\n",
        "\n",
        "*   Localizar uma distribuição\n",
        "*   Caracterizar sua variabilidade"
      ],
      "metadata": {
        "id": "vf2x-8O23cVm"
      }
    },
    {
      "cell_type": "markdown",
      "source": [
        "### Medidas De Posição\n"
      ],
      "metadata": {
        "id": "roGc_YPY4OVj"
      }
    },
    {
      "cell_type": "markdown",
      "source": [
        "Servem para localizar a distribuição dos dados brutos (ou das\n",
        "frequências sobre o eixo de variação da variável em questão. As medidas de posição podem ser de tendência central ou separatrizes.\n",
        "Os três tipos principais de medidas de tendência:\n",
        "\n",
        "* Média\n",
        "* Mediana\n",
        "* Moda\n",
        "\n",
        "As medidas separatrizes podem ser:\n",
        "\n",
        "* Quartil\n",
        "* Percentil\n",
        "\n",
        "\n",
        "\n"
      ],
      "metadata": {
        "id": "dJSPk3m-414k"
      }
    },
    {
      "cell_type": "markdown",
      "source": [
        "#### Média Aritmética"
      ],
      "metadata": {
        "id": "pK0os22b5yvq"
      }
    },
    {
      "cell_type": "markdown",
      "source": [
        "A média aritmética é uma medida estatística fundamental utilizada para descrever o valor típico ou central de um conjunto de dados. É calculada como a soma de todos os valores dividida pelo número total de observações. A média aritmética é amplamente utilizada em diversas áreas, desde a estatística básica até a análise de dados mais complexa.\n",
        "\n",
        "Essa medida é especialmente útil quando se deseja obter uma medida de tendência central que considere todos os valores do conjunto de dados. Ela representa um valor médio, equilibrando as contribuições de cada observação.\n",
        "\n",
        "Essa medida é particularmente sensível a valores extremos. Se um único valor for significativamente maior ou menor do que os demais, ele terá um impacto maior na média aritmética. Portanto, em alguns casos, a média aritmética pode não ser a medida mais adequada quando os dados contêm valores discrepantes ou apresentam distribuições assimétricas.\n",
        "\n",
        "Se os dados consistem de *n* observações *x1,x2,x3,…,xn* a\n",
        "média é dada pela soma das observações dividida pelo o número de observações.\n",
        "\n",
        "![image.png](data:image/png;base64,iVBORw0KGgoAAAANSUhEUgAAAKEAAABzCAYAAADwp2KSAAAJ7UlEQVR4nO3df2wT5xkH8K/djDKWMtZtKpdQgYhL+kcYWh11a4uQk4GDBlWjZAh1gwQ5f5AJKpY0CTV0HaUoKTgzQgKVqnIaAuoEmi00igZBTrMqDIXZVSnRgkOI0uH4imAtSTwKIfGzP2InJOVHbN/x3uHnI1kiAc6Pz1/fPX7vvTsDEVGFZzkYEyUt9ofdRSdE1sFSmFF0AYxxCJlwHEImHIeQCcchZMJxCJlwHEI1hC/As7kABkMG8urPYkA+jd2lC2EwGGDI2w1/OCK6Qk3hECruJrqOfABfwR60O7LR6qzAK1WtWPRuO0Lu9UDr3/BJ4IboIjWFQ6i46Vhg+zNq83+A4PnLAH6O13ZVI18yYvD61wCyMT9juugiNYVDqJaBi2g/dQnS2iIszZwGIIxgoAewPo+cp9Ie+N9TCYdQJcMXP4NbNmNtwc8wEwAGvsDJg35kLVuE+bzWJ+DVoYqb6Dl3FpcwH9lz0gHEQpmFl+Y/ju6G17Gl5ZrgGrWDQ6iK2K53ORabRvu/tOwlKLfcQFPx6/jwsdV4zfITwTVqhyE2lYtn0TBReEvIhOMQMuE4hEw4DmHcLsNTaho9BKfGw1QP/7Do1/hwcQjj9jQKa3fBJsV+lmCxNyM0QiBK7DESaoOzJEfkixKKQ5gAY+ZKbN+7AaM5lNFaV4k3j36JRKclGKWXsGlrBazKlagrHMKETENmoR2H7LHYdKBhowNH+4YSXqLR9CJWW6UH/8NHEIcwUcZM5G95Bw5LNDjyPhSv2Zf4NC3jPCxevVi5+nSEQ5iM9FyUv1eHktgGrNWBqv0+hBNa2HQssB0BdVfBnGLzGziESTEi/dlXUXtnf1i9Hfv91wXXpS8cwqRNQ2ZhNfbaYt9uj6P65TfhSaI/TDUcQiUY56Joj2tCf7jxrY/Rx7P4p4RDqJT0XJTXV8MS/VFu+BO2NHYk2B+mFg6hYoxIN2/AIXesP+xAU9kb3B9OAYdQUXfpD6s+5LPrHkA3IRz218N0z2Oueaj3a2THZ5yLwh1O2GP9YWslXt50VLn+MNyBhtjpowYDDIZyeORhfPeYduz3OkBE9Ad3ATEljdCgz0kWgAAQkEM2dy+NKLX0oJtsEghYQQ7fN+N/EXJTCUCQSsjZHlLs+dSmmy2hvhiRbi7Dey7bWH+Y7GG9CUvPXILfrTUDmIEnn4idPjqEvjMtOIUVcBzbg4rnJd3s5vRSpw7NxLPr3hrvD5M9rDfBk8gtsEJCGw639SKCCML+fVhTfBHrvO+j0jxLged4iIi0vjvup0Czk0qkSbu1kRC1O0tIgkQWRzsNii7zHsZ3nSAoWetgOzksEsHqos7/uMkm5VCJ67xm18P9aD6EIwEXrShppM7QmbGVHhj5hnyOwim+oYPkc1iiIZjaI8vho9vKvYKJ/WGWg3yKLPxbCrhWjfWceg0gkQ5COC4Wpt+Sw2Unq81NQb103nSVvDVmAkCSYnWPUL/XThIQ/WAqsUwxdNQTzsAzz70ACR+h+uDj2LxjJTJ1UX0E4QvHceCgH7BswyGF6o70HUXFmjrIAHC+G0Edj0Xq4m0cZUT6HBMWAshasRJLpGmiC5qasA/7f29Hk7wCjvpNyFei7vBZONfUoKfyDIJeOyS5ETv/2nWPmd3DkD3l2hpLnUQ/IYz0obXxMJoBXDp1Dj1T/uCH4a/Pi+tkI1O9H4oM80b60FL7R1S3/hglrndRrsS31nAHGjaUwTl/Fw5V/hKZuUuxVpLRfPif6L7rOrmJUE8AkF7Ac8/MSP751UCkh57wFgXdm8hqbyRXpZmA9eQOKffVQR23KOjeQJKSfeBIkLx2K8HiJN9gbIGxfnMVuQLfKvAkD58OQniLQt5tZC1ppM7BWxRyr48O1QQo6N1G1hov9Ysu8TtGaLCzcXRYybKNvKFbCiyznzpdNpJgphrv1Tt+P/4tWZq8LmJHUCCR1dWp2SMoGg7h+Lc/qWQvtcfeyNj4GCSy1LgpMKjBVTtW46TDaokaGxONjjXamyk0OlhKgwE31Vik6FCNleze4ISw3fY5KAsWcvi0O4Cj4RDqVGyXqYmxu9ujew7JTt5+DX5Yo/TzxUQXhtB3tA5r6poh2d5G7bocpAut5zo6233AQhPmpGv3rdZuZboTQfjCX7Bl4z7ICo4HJmXgC5w8GIJ19Yswia7lPjRcms6oMR6YpMhXvfhcnoHZs4bRpeGrw3IIlaDGeKACjBk5WGa5gabiV1HXX6Tdq8MS8ReT5KgwHphieEuYFGX7wEhXAwoMJpR6LitXog5wCJOhaB84jCsdZ9GsWHH6wSFMlOJ9YHQ4BbMwe9b3lahQNziECVF6PHAAXR4n3tnlB/AEfvrD1LrtWIpd/0kJd/SBANBQjDkNomvSN94SxmusD1TrCVLvBowcwjgNBz7F/lbVEpiSeHccpzRzFbqpSnQZjxTeEjLhOIRMOA5hUrR/EpEecAiTosBJRBEZfk89SjN0dBUthXEIk5IOc9UnoFAt8mfGuyqHIPsPYvOvzMgtrlZxyEf7OISJkj0oNRhgMGSgoOFC/HdzivwXoeDTKDvWi5B7vRoV6gaHMFFSEVw+B7KQjWWL5oyuyGE/6k0POK+51DN6pMUowfyKBQs0PO3+YeFxwoQN4+qX3bh0Zz+YZkZVN4FHEePDH8OE6eMkIj3gtZeou51EFM/umI3hECboricRRXfHdL/7Gx8owoR7eUb6cOb4aQBB9IRSc6yRQ5ig5E8iil5t/7F5KG7oAHAc1bk/SsmBbwMRUYVnOXYXnRBdC0tRvCVkwnEImXAcQiYch5AJxyFkwnEImXAcQiYch5AJxyFkwnEImXAcQiYchzBmbLp+qjy0c2IVz6yOkYpwgAgHRNeRgnhLyITjEDLhOIRMOA4hE45DyITjEDLhOIRMOA4hE45DyITjEDLhOIRMOA4hE45DqIKIfBq7SxfCYDAgo/QALoSHEe7yYHNexugMlry30SIPiS5TMziEShtogX3dcczdegI+hwVyUzM+PrIdG1xA2bFuBFyrgNb3sfPvPfFf3fURxVO5lDYzHztP5gO4hpargwA+gvO0G//6oAiZxggG5pkgoU10lZrCW0K1RK6h9/MQgFXYsfnX0ZtxD+Gr3m7Id15imPF6UM2Vf+MfzTKkmnL8ZkH0homRXrQdbkvulhOPIA6hKiIY6PThFCQszM4YvxdyLJhrlyI37ltOPLp4TajiBi5+dmbSbvcewWQcQlVEgjh3avKdniL43/WvIWMGZs/6Hq6c3YfSMr5+NcAhVEc4hMB5edKV/dPw1C+ssEmX0FRciDc+NWHrnsKJ169OUXy5YCYcbwmZcBxCJhyHkAnHIWTCcQiZcBxCJhyHkAnHIWTCjc0nrPAsF1kHS2H/B0xxgIXR6rLXAAAAAElFTkSuQmCC)\n",
        "\n",
        "Onde:\n",
        "\n",
        "* $\\overline{x}$ é a média dos dados da distribuição;\n",
        "* x são os dados da distribuição;\n",
        "* n é a quantidade de dados da distribuição.\n"
      ],
      "metadata": {
        "id": "Nb4amSGn6G_0"
      }
    },
    {
      "cell_type": "markdown",
      "source": [
        "##### Função em Python"
      ],
      "metadata": {
        "id": "edVy96_57lt6"
      }
    },
    {
      "cell_type": "code",
      "source": [
        "# Função para calcular Média\n",
        "def calcular_media(lista_dados):\n",
        "    # Calcula a média dos números\n",
        "    media = sum(lista_dados) / len(lista_dados)\n",
        "    # Retorna o valor da média\n",
        "    return media"
      ],
      "metadata": {
        "id": "JhryWC1T7ujs"
      },
      "execution_count": null,
      "outputs": []
    },
    {
      "cell_type": "markdown",
      "source": [
        "#### Mediana"
      ],
      "metadata": {
        "id": "W9K11tqM8Ppj"
      }
    },
    {
      "cell_type": "markdown",
      "source": [
        "A mediana é uma medida estatística amplamente utilizada para descrever a posição central de um conjunto de dados. Ao contrário da média aritmética, que é a soma de todos os valores dividida pelo número de observações, a mediana é o valor que divide o conjunto de dados em duas partes iguais, de modo que metade dos valores seja maior e metade seja menor do que a mediana.\n",
        "\n",
        "A mediana é especialmente útil quando lidamos com conjuntos de dados que apresentam valores extremos ou assimetrias. Ela é menos sensível a valores discrepantes do que a média, pois não leva em consideração a magnitude dos valores, apenas sua posição relativa dentro do conjunto.\n",
        "\n",
        "Para calcularmos a mediana é preciso ordenarmos os dados *x1,x2,x3,…,xn* A mediana de um conjunto de dados é:\n",
        "\n",
        "\n",
        "*   Se *n* é ímpar, a mediana é o valor central:\n",
        "\n",
        "![image.png](data:image/png;base64,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)\n",
        "*   Se *n* é par a mediana é a média dos dois valores centrais:\n",
        "\n",
        "![image.png](data:image/png;base64,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)\n",
        "\n",
        "Onde:\n",
        "\n",
        "* Md é a mediana dos dados da distribuição;\n",
        "* x são os dados da distribuição;\n",
        "* n é a quantidade de dados da distribuição"
      ],
      "metadata": {
        "id": "QnD8_eiN8fP3"
      }
    },
    {
      "cell_type": "markdown",
      "source": [
        "##### Função em Python"
      ],
      "metadata": {
        "id": "ezEDRrjk9YB0"
      }
    },
    {
      "cell_type": "code",
      "source": [
        "#Função para calcular Mediana\n",
        "def calcular_mediana(lista_dados):\n",
        "    # Obtém a quantidade de números lidos\n",
        "    numero = len(lista_dados)\n",
        "    # Ordena a lista de números\n",
        "    ordenado = sorted(lista_dados)\n",
        "    # Verifica se o número de elementos é ímpar ou par\n",
        "    # Se for ímpar, a mediana é o valor do meio\n",
        "    # Se for par, a mediana é a média dos dois valores do meio\n",
        "    if (numero%2==1):\n",
        "        mediana = ordenado[(numero+1)//2-1]\n",
        "    else:\n",
        "        mediana = (ordenado[numero//2-1]+ordenado[(numero//2)])/2\n",
        "        # Retorna o valor da mediana\n",
        "    return mediana"
      ],
      "metadata": {
        "id": "zbTCv_v99QUx"
      },
      "execution_count": null,
      "outputs": []
    },
    {
      "cell_type": "markdown",
      "source": [
        "#### Moda"
      ],
      "metadata": {
        "id": "gJsxluUjfOn9"
      }
    },
    {
      "cell_type": "markdown",
      "source": [
        "A moda é uma medida estatística que representa o valor ou valores mais frequentes em um conjunto de dados. Em outras palavras, é o valor que ocorre com maior frequência em uma distribuição. A moda é particularmente útil para identificar os elementos mais comuns ou populares em um conjunto de observações.\n",
        "\n",
        "Ao contrário da média e da mediana, que se concentram na tendência central dos dados, a moda fornece informações sobre a concentração dos valores em torno de determinado ponto ou intervalo. Ela é especialmente relevante quando se busca compreender os aspectos dominantes ou predominantes de um conjunto de dados.\n",
        "\n",
        "A moda pode ser identificada em diferentes tipos de distribuição. Em distribuições unimodais, há uma única moda que representa o valor mais frequente. Já em distribuições bimodais ou multimodais, existem duas ou mais modas, indicando a presença de diferentes valores com frequências semelhantes."
      ],
      "metadata": {
        "id": "6s7lqobDffWa"
      }
    },
    {
      "cell_type": "markdown",
      "source": [
        "##### Função em Python"
      ],
      "metadata": {
        "id": "3fNKiwsigDeG"
      }
    },
    {
      "cell_type": "code",
      "source": [
        "# Função para calcular a Moda\n",
        "def calcular_moda(lista_dados):\n",
        "    numero = len(lista_dados)\n",
        "    ordenado = sorted(lista_dados)\n",
        "    # Lista para armazenar as contagens de cada número\n",
        "    contagens = [0] * numero\n",
        "    # Loop para contar as ocorrências de cada número\n",
        "    for i in range(numero):\n",
        "        for j in range(i + 1, numero):\n",
        "            if ordenado[i] == ordenado[j]:\n",
        "                contagens[i] += 1\n",
        "    # Encontra o valor máximo da contagem\n",
        "    max_contagem = max(contagens)\n",
        "    # Lista para armazenar os valores da moda\n",
        "    moda = []\n",
        "    # Loop para adicionar os valores com contagem máxima à lista de moda\n",
        "    for i in range(numero):\n",
        "        if contagens[i] == max_contagem and ordenado[i] not in moda:\n",
        "            moda.append(ordenado[i])\n",
        "    if max_contagem == 0:\n",
        "        moda = \"Não se Aplica\"\n",
        "    else:\n",
        "        pass\n",
        "    # Retorna a moda ou as modas caso existam\n",
        "    return moda"
      ],
      "metadata": {
        "id": "-TBU8oBWgpT3"
      },
      "execution_count": null,
      "outputs": []
    },
    {
      "cell_type": "markdown",
      "source": [
        "#### Quartil\n"
      ],
      "metadata": {
        "id": "9nt0hraOsfGR"
      }
    },
    {
      "cell_type": "markdown",
      "source": [
        "Dividindo os valores ordenados da variável em quatro quartos iguais, obtém-se um quartil para cada quarto definido desta forma:\n",
        "\n",
        "* O valor da amostra do primeiro quartil Q1 é maior do que\n",
        "25% dos valores menores e menor do que 75% dos demais valores maiores.\n",
        "\n",
        "* O valor da amostra do segundo quartil Q2 é maior do que 50% dos valores menores e menor do que 50% dos demais valores maiores. O segundo quartil é também a mediana que divide a área da distribuição de frequências em duas partes iguais a 50%.\n",
        "\n",
        "* O valor da amostra do terceiro quartil Q3 é maior do que 75% dos valores menores e menor do que 25% dos demais valores maiores.\n",
        "\n",
        "* O intervalo interquartílico é definido como a diferença entre o terceiro e o primeiro quartil.\n",
        "\n",
        "O primeiro quartil pode ser calculado por:\n",
        "\n",
        "![image.png](data:image/png;base64,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)\n",
        "\n",
        "Onde:\n",
        "\n",
        "* Q1 = O Terceiro Quartil da distribuição;\n",
        "* x são os dados da distribuição;\n",
        "* n é a quantidade de dados da distribuição;\n",
        "* d é a posição decimal do quartil em questão.\n",
        "\n",
        "Já o terceiro quartil é calculado como:\n",
        "\n",
        "![image.png](data:image/png;base64,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)\n",
        "\n",
        "Onde:\n",
        "\n",
        "* Q3 = O Terceiro Quartil da distribuição;\n",
        "* x são os dados da distribuição;\n",
        "* n é a quantidade de dados da distribuição;\n",
        "* d é a posição decimal do quartil em questão."
      ],
      "metadata": {
        "id": "xeFwTM0Usy4-"
      }
    },
    {
      "cell_type": "markdown",
      "source": [
        "##### Função em Python"
      ],
      "metadata": {
        "id": "IhlV3aois_i6"
      }
    },
    {
      "cell_type": "code",
      "source": [
        "# Função para calcular o Quartil\n",
        "def calcular_quartil(lista_dados, quartil):\n",
        "    # Obtém a quantidade de números lidos\n",
        "    indices = len(lista_dados)\n",
        "    # Calcula a posição inteira do quartil na lista ordenada\n",
        "    posicao_int = ((indices - 1) * quartil) // 4 + 1\n",
        "    # Calcula a posição com casas decimais do quartil na lista ordenada\n",
        "    posicao_float = (indices - 1) * quartil / 4 + 1\n",
        "    # Ordena a lista de números\n",
        "    ordenado = sorted(lista_dados)\n",
        "    # Calcula o valor do quartil usando a fórmula do quartil linear\n",
        "    valor = ordenado[posicao_int - 1] + ((ordenado[posicao_int] - ordenado[posicao_int - 1]) * (posicao_float - float(posicao_int)))\n",
        "    # Retorna o valor calculado do quartil\n",
        "    return valor"
      ],
      "metadata": {
        "id": "QEE5EDcVm0Ra"
      },
      "execution_count": null,
      "outputs": []
    },
    {
      "cell_type": "markdown",
      "source": [
        "#### Box Plot\n"
      ],
      "metadata": {
        "id": "Nzytuv0enWkY"
      }
    },
    {
      "cell_type": "markdown",
      "source": [
        "O boxplot, também conhecido como diagrama de caixa, é uma ferramenta gráfica amplamente utilizada na análise exploratória de dados para identificar a presença de outliers, que são valores extremos ou discrepantes em relação aos demais dados. Esse gráfico fornece uma representação visual da distribuição dos dados, destacando os valores mínimos, quartis, mediana, quartis superiores e máximos.\n",
        "\n",
        "A construção de um boxplot envolve a criação de uma caixa retangular que representa a amplitude interquartil (AIQ), que é a diferença entre o primeiro quartil (Q1) e o terceiro quartil (Q3). A mediana é representada por uma linha dentro da caixa. Além disso, o boxplot exibe dois segmentos, conhecidos como \"bigodes\", que se estendem a partir da caixa. Esses bigodes são calculados com base na AIQ e podem ser úteis para identificar possíveis outliers.\n",
        "\n",
        "Outliers são pontos de dados que estão significativamente afastados dos demais valores da distribuição. No boxplot, eles são representados por pontos individuais que se encontram além dos bigodes. Esses valores extremos merecem atenção especial, pois podem indicar erros de medição, anomalias nos dados ou eventos raros e significativos.\n",
        "\n",
        "\n",
        "![image.png](data:image/png;base64,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)\n",
        "\n",
        "Calculando os limites do Box Plot:\n",
        "\n",
        "![image.png](data:image/png;base64,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)\n",
        "\n",
        "\n",
        "Onde:\n",
        "\n",
        "* LS = Limite Superior do BoxPlot;\n",
        "* LI = Limite Inferior do BoxPlot;\n",
        "* Q1 = O primeiro Quartil da distribuição;\n",
        "* Q3 = O Terceiro Quartil da distribuição;\n",
        "\n",
        "A interpretação do boxplot para identificação de outliers é baseada em uma convenção comumente utilizada, na qual qualquer valor que esteja acima do limite superior ou abaixo do limite inferior é considerado um outlier potencial. No entanto, é importante ressaltar que essa regra pode variar dependendo do contexto e da natureza dos dados.\n",
        "\n",
        "Ao utilizar o boxplot para detectar outliers, é possível obter insights valiosos sobre a qualidade e a consistência dos dados. Identificar e compreender esses valores discrepantes é essencial para evitar conclusões errôneas e realizar análises mais confiáveis e robustas. Além disso, a visualização fornecida pelo boxplot facilita a comunicação dos resultados e a compreensão das características da distribuição dos dados."
      ],
      "metadata": {
        "id": "rNqctOX0ncYS"
      }
    },
    {
      "cell_type": "markdown",
      "source": [
        "##### Função em Python"
      ],
      "metadata": {
        "id": "j2riwiHfVmkE"
      }
    },
    {
      "cell_type": "code",
      "source": [
        "# Função para calcular o limite superior do Box Plot\n",
        "def calcular_limitesuperior(lista_dados):\n",
        "    # Obtém a quantidade de números lidos\n",
        "    indices = len(lista_dados)\n",
        "    # Calcula a posição inteira do primeiro quartil na lista ordenada\n",
        "    posicao_int = ((indices - 1) * 1) // 4 + 1\n",
        "    # Calcula a posição com casas decimais do primeiro quartil na lista ordenada\n",
        "    posicao_float = (indices - 1) * 1 / 4 + 1\n",
        "    # Ordena a lista de números\n",
        "    ordenado = sorted(lista_dados)\n",
        "    # Calcula o valor do quartil usando a fórmula do quartil linear\n",
        "    quartil1 = ordenado[posicao_int - 1] + ((ordenado[posicao_int] - ordenado[posicao_int - 1]) * (posicao_float - float(posicao_int)))\n",
        "    # Calcula a posição inteira do terceiro quartil na lista ordenada\n",
        "    posicao_int = ((indices - 1) * 3) // 4 + 1\n",
        "    # Calcula a posição com casas decimais do terceiro quartil na lista ordenada\n",
        "    posicao_float = (indices - 1) * 3 / 4 + 1\n",
        "    # Ordena a lista de números\n",
        "    ordenado = sorted(lista_dados)\n",
        "    # Calcula o valor do quartil usando a fórmula do quartil linear\n",
        "    quartil3 = ordenado[posicao_int - 1] + ((ordenado[posicao_int] - ordenado[posicao_int - 1]) * (posicao_float - float(posicao_int)))\n",
        "    # Retorna o valor do limite superior\n",
        "    return quartil3 + (1.5*(quartil3 - quartil1))"
      ],
      "metadata": {
        "id": "8k2CqmvxngyT"
      },
      "execution_count": null,
      "outputs": []
    },
    {
      "cell_type": "code",
      "source": [
        "# Função para calcular o limite inferior do Box Plot\n",
        "def calcular_limiteinferior(lista_dados):\n",
        "    # Obtém a quantidade de números lidos\n",
        "    indices = len(lista_dados)\n",
        "    # Calcula a posição inteira do primeiro quartil na lista ordenada\n",
        "    posicao_int = ((indices - 1) * 1) // 4 + 1\n",
        "    # Calcula a posição com casas decimais do primeiro quartil na lista ordenada\n",
        "    posicao_float = (indices - 1) * 1 / 4 + 1\n",
        "    # Ordena a lista de números\n",
        "    ordenado = sorted(lista_dados)\n",
        "    # Calcula o valor do quartil usando a fórmula do quartil linear\n",
        "    quartil1 = ordenado[posicao_int - 1] + ((ordenado[posicao_int] - ordenado[posicao_int - 1]) * (posicao_float - float(posicao_int)))\n",
        "    # Calcula a posição inteira do terceiro quartil na lista ordenada\n",
        "    posicao_int = ((indices - 1) * 3) // 4 + 1\n",
        "    # Calcula a posição com casas decimais do terceiro quartil na lista ordenada\n",
        "    posicao_float = (indices - 1) * 3 / 4 + 1\n",
        "    # Ordena a lista de números\n",
        "    ordenado = sorted(lista_dados)\n",
        "    # Calcula o valor do quartil usando a fórmula do quartil linear\n",
        "    quartil3 = ordenado[posicao_int - 1] + ((ordenado[posicao_int] - ordenado[posicao_int - 1]) * (posicao_float - float(posicao_int)))\n",
        "    # Retorna o valor do limite inferior\n",
        "    return quartil1 - (1.5*(quartil3 - quartil1))"
      ],
      "metadata": {
        "id": "Cr2_w4lrrb09"
      },
      "execution_count": null,
      "outputs": []
    },
    {
      "cell_type": "code",
      "source": [
        "# Função para determinar outliers baixos\n",
        "def calcular_outbaixo(lista_dados):\n",
        "    # Obtém a quantidade de números lidos\n",
        "    indices = len(lista_dados)\n",
        "    # Calcula a posição inteira do primeiro quartil na lista ordenada\n",
        "    posicao_int = ((indices - 1) * 1) // 4 + 1\n",
        "    # Calcula a posição com casas decimais do primeiro quartil na lista ordenada\n",
        "    posicao_float = (indices - 1) * 1 / 4 + 1\n",
        "    # Ordena a lista de números\n",
        "    ordenado = sorted(lista_dados)\n",
        "    # Calcula o valor do quartil usando a fórmula do quartil linear\n",
        "    quartil1 = ordenado[posicao_int - 1] + ((ordenado[posicao_int] - ordenado[posicao_int - 1]) * (posicao_float - float(posicao_int)))\n",
        "    # Calcula a posição inteira do terceiro quartil na lista ordenada\n",
        "    posicao_int = ((indices - 1) * 3) // 4 + 1\n",
        "    # Calcula a posição com casas decimais do terceiro quartil na lista ordenada\n",
        "    posicao_float = (indices - 1) * 3 / 4 + 1\n",
        "    # Ordena a lista de números\n",
        "    ordenado = sorted(lista_dados)\n",
        "    # Calcula o valor do quartil usando a fórmula do quartil linear\n",
        "    quartil3 = ordenado[posicao_int - 1] + ((ordenado[posicao_int] - ordenado[posicao_int - 1]) * (posicao_float - float(posicao_int)))\n",
        "    Li=quartil1 - (1.5*(quartil3 - quartil1))\n",
        "    outbaixo = 0\n",
        "    # Retorna o valor do limite superior\n",
        "    for i in range(len(lista_dados)):\n",
        "        if lista_dados[i] < Li:\n",
        "            outbaixo += 1\n",
        "        else:\n",
        "            pass\n",
        "    return outbaixo"
      ],
      "metadata": {
        "id": "Fx5t4cxl_Swj"
      },
      "execution_count": null,
      "outputs": []
    },
    {
      "cell_type": "code",
      "source": [
        "# Função para determinar outliers altos\n",
        "def calcular_outalto(lista_dados):\n",
        "    # Obtém a quantidade de números lidos\n",
        "    indices = len(lista_dados)\n",
        "    # Calcula a posição inteira do primeiro quartil na lista ordenada\n",
        "    posicao_int = ((indices - 1) * 1) // 4 + 1\n",
        "    # Calcula a posição com casas decimais do primeiro quartil na lista ordenada\n",
        "    posicao_float = (indices - 1) * 1 / 4 + 1\n",
        "    # Ordena a lista de números\n",
        "    ordenado = sorted(lista_dados)\n",
        "    # Calcula o valor do quartil usando a fórmula do quartil linear\n",
        "    quartil1 = ordenado[posicao_int - 1] + ((ordenado[posicao_int] - ordenado[posicao_int - 1]) * (posicao_float - float(posicao_int)))\n",
        "    # Calcula a posição inteira do terceiro quartil na lista ordenada\n",
        "    posicao_int = ((indices - 1) * 3) // 4 + 1\n",
        "    # Calcula a posição com casas decimais do terceiro quartil na lista ordenada\n",
        "    posicao_float = (indices - 1) * 3 / 4 + 1\n",
        "    # Ordena a lista de números\n",
        "    ordenado = sorted(lista_dados)\n",
        "    # Calcula o valor do quartil usando a fórmula do quartil linear\n",
        "    quartil3 = ordenado[posicao_int - 1] + ((ordenado[posicao_int] - ordenado[posicao_int - 1]) * (posicao_float - float(posicao_int)))\n",
        "    Ls=quartil3 + (1.5*(quartil3 - quartil1))\n",
        "    outalto = 0\n",
        "    # Retorna o valor do limite superior\n",
        "    for i in range(len(lista_dados)):\n",
        "        if lista_dados[i] > Ls:\n",
        "            outalto += 1\n",
        "        else:\n",
        "            pass\n",
        "    return outalto"
      ],
      "metadata": {
        "id": "W-yMYjYyDl5q"
      },
      "execution_count": null,
      "outputs": []
    },
    {
      "cell_type": "markdown",
      "source": [
        "### Medidas de Dispersão"
      ],
      "metadata": {
        "id": "cPq__BOVkuQy"
      }
    },
    {
      "cell_type": "markdown",
      "source": [
        "A informação fornecida pelas Medidas de Posição em geral necessitam de ser complementas pelas Medidas de Dispersão.\n",
        "\n",
        "As Medidas de Dispersão servem para indicar o “quanto os\n",
        "dados se apresentam dispersos em torno da região central”.\n",
        "\n",
        "Portanto, caracterizam o grau de variação existente em um\n",
        "conjunto de valores.\n",
        "\n",
        "As Medidas de Dispersão que mais nos interessam são:\n",
        "* Amplitude\n",
        "* Variância\n",
        "* Desvio Padrão\n",
        "* Coeficiente de Variação"
      ],
      "metadata": {
        "id": "NMInS_hrk1iO"
      }
    },
    {
      "cell_type": "markdown",
      "source": [
        "#### Amplitude"
      ],
      "metadata": {
        "id": "qUwDmfdind8n"
      }
    },
    {
      "cell_type": "markdown",
      "source": [
        "A amplitude é definida como a diferença entre o maior e o menor valores do conjunto de dados.\n",
        "Salvo aplicações de Controle de Qualidade, a amplitude não\n",
        "é muito utilizada como Medida de Dispersão."
      ],
      "metadata": {
        "id": "X41fPeuAni4L"
      }
    },
    {
      "cell_type": "markdown",
      "source": [
        "##### Função em Python"
      ],
      "metadata": {
        "id": "uDgd2ML2n5On"
      }
    },
    {
      "cell_type": "code",
      "source": [
        "# Função para calcular o valor Máximo\n",
        "def calcular_maximo(lista_dados):\n",
        "    # Ordena a lista de números\n",
        "    ordenado = sorted(lista_dados)\n",
        "    # O valor máximo é o último elemento da lista ordenada\n",
        "    maximo = ordenado[-1]\n",
        "    # Retorna o valor máximo\n",
        "    return maximo"
      ],
      "metadata": {
        "id": "hmtCDTPFoIBX"
      },
      "execution_count": null,
      "outputs": []
    },
    {
      "cell_type": "code",
      "source": [
        "# Função para calcular o valor Mínimo\n",
        "def calcular_minimo(lista_dados):\n",
        "    # Ordena a lista de números\n",
        "    ordenado = sorted(lista_dados)\n",
        "    # O valor mínimo é o primeiro elemento da lista ordenada\n",
        "    minimo = ordenado[0]\n",
        "    # Retorna o valor mínimo\n",
        "    return minimo"
      ],
      "metadata": {
        "id": "g7xwbJS5GQ-r"
      },
      "execution_count": null,
      "outputs": []
    },
    {
      "cell_type": "code",
      "source": [
        "# Função para calcular Amplitude Total\n",
        "def calcular_amplitude(lista_dados):\n",
        "    # Ordena a lista de números\n",
        "    ordenado = sorted(lista_dados)\n",
        "    # O valor mínimo é o primeiro elemento da lista ordenada\n",
        "    minimo = ordenado[0]\n",
        "    # O valor máximo é o último elemento da lista ordenada\n",
        "    maximo = ordenado[-1]\n",
        "    # Calcula a amplitude como a diferença entre o valor máximo e mínimo\n",
        "    amplitude = maximo - minimo\n",
        "    # Retorna a amplitude\n",
        "    return amplitude"
      ],
      "metadata": {
        "id": "g00y5FLWWC_y"
      },
      "execution_count": null,
      "outputs": []
    },
    {
      "cell_type": "markdown",
      "source": [
        "#### Variância"
      ],
      "metadata": {
        "id": "U7yq7Z2N7ql8"
      }
    },
    {
      "cell_type": "markdown",
      "source": [
        "A variância é uma medida estatística que quantifica a dispersão ou a variabilidade dos valores em relação à média de um conjunto de dados. Ela fornece uma estimativa numérica de quão distantes os valores individuais estão em relação à média, permitindo compreender a extensão da dispersão dos dados.\n",
        "\n",
        "Quanto maior for a variância, maior será a dispersão dos valores em relação à média. Uma variância baixa indica que os valores tendem a estar próximos à média, enquanto uma variância alta indica que os valores estão mais dispersos e afastados da média.\n",
        "\n",
        "A variância é definida como a “média dos quadrados das diferenças entre os valores em relação a sua própria média.\n",
        "\n",
        "![image.png](data:image/png;base64,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)\n",
        "\n",
        "Onde:\n",
        "* σ² é a variância dos dados da distribuição;\n",
        "* $\\overline{x}$ é a média dos dados da distribuição;\n",
        "* x são os dados da distribuição;\n",
        "* n é a quantidade de dados da distribuição."
      ],
      "metadata": {
        "id": "BgGwvLs27zb6"
      }
    },
    {
      "cell_type": "markdown",
      "source": [
        "##### Função em Python"
      ],
      "metadata": {
        "id": "irYYV2W68c6k"
      }
    },
    {
      "cell_type": "code",
      "source": [
        "# Função para calcular a Variância\n",
        "def calcular_variancia(lista_dados):\n",
        "    # Calcula a média dos números\n",
        "    media = sum(lista_dados) / len(lista_dados)\n",
        "    # Inicializa a variância como zero\n",
        "    variancia = 0\n",
        "    # O laço servirá para realizar o somatório.\n",
        "    # Em cada parcela da  soma, calcula-se a diferença entre o número atual e a média,\n",
        "    # eleva ao quadrado e divide pelo número total de elementos\n",
        "    for i in range(len(lista_dados)):\n",
        "        variancia = variancia + (((lista_dados[i]-media)**2) / (len(lista_dados)-1))\n",
        "    # Retorna o valor da variância\n",
        "    return variancia"
      ],
      "metadata": {
        "id": "CRZ8Yjqqc_4H"
      },
      "execution_count": null,
      "outputs": []
    },
    {
      "cell_type": "markdown",
      "source": [
        "#### Desvio Padrão\n",
        "\n"
      ],
      "metadata": {
        "id": "N-P-xCNoJ1la"
      }
    },
    {
      "cell_type": "markdown",
      "source": [
        "O desvio padrão é uma medida estatística amplamente utilizada para quantificar a dispersão dos valores em relação à média de um conjunto de dados. É uma medida de variabilidade que fornece uma estimativa da extensão com que os valores individuais se desviam da média.\n",
        "\n",
        "O desvio padrão é calculado a partir da raiz quadrada da variância. Enquanto a variância mede a dispersão em termos de unidades ao quadrado, o desvio padrão expressa essa dispersão em unidades originais, o que o torna mais fácil de interpretar e comparar com os dados originais.\n",
        "\n",
        "![image.png](data:image/png;base64,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)\n",
        "\n",
        "Onde:\n",
        "* σ é o desvio padrão dos dados da distribuição;\n",
        "* $\\overline{x}$ é a média dos dados da distribuição;\n",
        "* x são os dados da distribuição;\n",
        "* n é a quantidade de dados da distribuição"
      ],
      "metadata": {
        "id": "U40xTZe4KDpk"
      }
    },
    {
      "cell_type": "markdown",
      "source": [
        "##### Função em Python"
      ],
      "metadata": {
        "id": "ojVhLzDGJ01j"
      }
    },
    {
      "cell_type": "code",
      "source": [
        "# Função para calcular o Desvio Padrão\n",
        "def calcular_desviopadrao(lista_dados):\n",
        "    # Calcula a média dos números\n",
        "    media = sum(lista_dados) / len(lista_dados)\n",
        "    # Inicializa a variância como zero\n",
        "    variancia = 0\n",
        "    # O laço servirá para realizar o somatório.\n",
        "    # Em cada parcela da  soma, calcula-se a diferença entre o número atual e a média,\n",
        "    # eleva ao quadrado e divide pelo número total de elementos\n",
        "    for i in range(len(lista_dados)):\n",
        "        variancia = variancia + (((lista_dados[i]-media)**2) / (len(lista_dados)-1))\n",
        "    # Retorna o valor da raiz quadrada da variância, ou seja, o desvio padrão\n",
        "    return variancia**0.5"
      ],
      "metadata": {
        "id": "grACGvNGr0iA"
      },
      "execution_count": null,
      "outputs": []
    },
    {
      "cell_type": "markdown",
      "source": [
        "#### Coeficiente de Variação\n"
      ],
      "metadata": {
        "id": "IAOLmTYNWw92"
      }
    },
    {
      "cell_type": "markdown",
      "source": [
        "O coeficiente de variação é definido como “o quociente entre\n",
        "o desvio padrão e a média”, sendo frequentemente expresso\n",
        "em porcentagem.\n",
        "\n",
        "A vantagem da utilização do CV é caracterizar a dispersão dos\n",
        "dados em termos relativos ao seu valor médio.\n",
        "\n",
        "Pequena dispersão absoluta pode ser, na verdade considerável, quando comparada com a ordem de grandeza\n",
        "dos valores da variável Quando consideramos o CV, enganos\n",
        "de interpretações desse tipo não ocorrem.\n",
        "\n",
        "Além disso, por ser adimensional, o CV fornece uma maneira\n",
        "de se compararem as dispersões de variáveis cujas medidas\n",
        "são irredutíveis.\n",
        "\n",
        "![image.png](data:image/png;base64,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)\n",
        "\n",
        "Onde:\n",
        "* CV é o Coeficiente de Variação dos dados da distribuição;\n",
        "* σ é o desvio padrão dos dados da distribuição;\n",
        "* $\\overline{x}$ é a média dos dados da distribuição;"
      ],
      "metadata": {
        "id": "5jE4gsYbYIBW"
      }
    },
    {
      "cell_type": "markdown",
      "source": [
        "##### Função em Python"
      ],
      "metadata": {
        "id": "_Bg06qa5ZX0x"
      }
    },
    {
      "cell_type": "code",
      "source": [
        "# Função para calcular o Coeficiente de Variação\n",
        "def calcular_coefvari(lista_dados):\n",
        "    # Calcula a média dos números\n",
        "    media = sum(lista_dados) / len(lista_dados)\n",
        "    # Inicializa a variância como zero\n",
        "    variancia = 0\n",
        "    # O laço servirá para realizar o somatório.\n",
        "    # Em cada parcela da  soma, calcula-se a diferença entre o número atual e a média,\n",
        "    # eleva ao quadrado e divide pelo número total de elementos\n",
        "    for i in range(len(lista_dados)):\n",
        "        variancia = variancia + (((lista_dados[i]-media)**2) / (len(lista_dados)-1))\n",
        "    # Calcula o desvio padrão (raiz quadrada da variância) e divide pela média\n",
        "    coeficiente_variacao = (variancia**0.5) / media\n",
        "    # Retorna o valor do coeficiente de variação\n",
        "    return coeficiente_variacao"
      ],
      "metadata": {
        "id": "yLVWjXUXs1ot"
      },
      "execution_count": null,
      "outputs": []
    },
    {
      "cell_type": "markdown",
      "source": [
        "## **Medidas de Associação**"
      ],
      "metadata": {
        "id": "eX_m9hmZ0uRq"
      }
    },
    {
      "cell_type": "markdown",
      "source": [
        "### Introdução"
      ],
      "metadata": {
        "id": "cp5mRejq0ylB"
      }
    },
    {
      "cell_type": "markdown",
      "source": [
        "As medidas de associação são ferramentas estatísticas utilizadas para analisar a relação entre variáveis em um conjunto de dados. Essas medidas fornecem informações sobre a direção e a intensidade da associação entre as variáveis, permitindo compreender o grau de dependência ou interação entre elas. As medidas de associação são amplamente empregadas em diversos campos, como estatística, ciências sociais, medicina, economia e muitos outros, para auxiliar na compreensão e interpretação dos dados. Essas medidas fornecem insights valiosos sobre os padrões e relações presentes nos dados, permitindo tomar decisões informadas e identificar possíveis correlações e interações entre variáveis. Dentre as medidas de associação mais comumente utilizadas estão:\n",
        "* Coeficiente de Correlação de Pearson;\n",
        "* Coeficiente de Determinação R²;\n",
        "* Coeficiente de Contingência;\n",
        "* Coeficiente de Concordância.\n",
        "\n",
        "Cada medida possui sua própria interpretação e aplicação específica, permitindo uma análise mais completa e precisa da relação entre as variáveis."
      ],
      "metadata": {
        "id": "1TCyr-0i00JV"
      }
    },
    {
      "cell_type": "markdown",
      "source": [
        "### Coeficiente de Correlação de Pearson"
      ],
      "metadata": {
        "id": "GN_hfIpg09x9"
      }
    },
    {
      "cell_type": "markdown",
      "source": [
        "O coeficiente de correlação de Pearson é uma medida estatística utilizada para avaliar o grau de relação linear entre duas variáveis. Ele é frequentemente aplicado em análises de dados para determinar a intensidade e a direção dessa relação. O coeficiente de correlação de Pearson varia entre -1 e 1, onde -1 indica uma correlação negativa perfeita, 1 indica uma correlação positiva perfeita e 0 indica ausência de correlação linear. Esse coeficiente fornece uma medida quantitativa da força da relação entre as variáveis, permitindo a interpretação do grau de dependência entre elas.\n",
        "\n",
        "\n",
        "![image.png](data:image/png;base64,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)\n",
        "\n",
        "Onde:\n",
        "\n",
        "* R é o coeficiente de Correlação de Pearson.\n",
        "* y é a variável dependente ou variável de resposta.\n",
        "* x é a variável independente ou variável explanatória.\n",
        "* n é a quantidade de dados da distribuição"
      ],
      "metadata": {
        "id": "FSC6X1hl1P2t"
      }
    },
    {
      "cell_type": "markdown",
      "source": [
        "#### Função em Python"
      ],
      "metadata": {
        "id": "FRGp30Fftvz2"
      }
    },
    {
      "cell_type": "code",
      "source": [
        "# Função para calcular o Coeficiente de Correlação de Pearson\n",
        "def calcular_pearson(lista_dados1, lista_dados2):\n",
        "    # Calcula o somatório dos valores da primeira variável e o somatório da\n",
        "    # segunda variável\n",
        "    Sx = sum(lista_dados1)\n",
        "    Sy = sum(lista_dados2)\n",
        "    # Calcula o somatório dos valores ao quadrado da primeira variável, o somatório\n",
        "    # dos valores ao quadrado da segunda variável e o somatório do produto entre\n",
        "    # os valores da primeira e e os valores da segunda variável\n",
        "    Sxx = 0\n",
        "    Syy = 0\n",
        "    Sxy = 0\n",
        "    for i in range(len(lista_dados1)):\n",
        "        Sxx = Sxx + lista_dados1[i]**2\n",
        "    for i in range(len(lista_dados2)):\n",
        "        Syy = Syy + lista_dados2[i]**2\n",
        "    for i in range(len(lista_dados1)):\n",
        "        Sxy = Sxy + lista_dados1[i]*lista_dados2[i]\n",
        "    # Calcula o coeficiente de Pearson.\n",
        "    # Se a variância de uma das varáveis for zero, então não será possível\n",
        "    # calcular o Coeficiente de Correlação de Pearson\n",
        "    try:\n",
        "        r = (Sxy - (Sx*Sy/len(lista_dados1)))/((Sxx-(Sx**2/len(lista_dados1)))*(Syy-(Sy**2/len(lista_dados1))))**0.5\n",
        "        r = round(r,4)\n",
        "    except ZeroDivisionError:\n",
        "        r = \"Não se Aplica\"\n",
        "    # Retorna o valor do Coeficiente de Correlação de Pearson caso exista\n",
        "    return r"
      ],
      "metadata": {
        "id": "YaPFJ3QQ1VHx"
      },
      "execution_count": null,
      "outputs": []
    },
    {
      "cell_type": "markdown",
      "source": [
        "### Coeficiente de Determinação R²"
      ],
      "metadata": {
        "id": "wMHuKeIRha8o"
      }
    },
    {
      "cell_type": "markdown",
      "source": [
        "O coeficiente de determinação, conhecido como R², é uma métrica utilizada para avaliar o ajuste de um modelo estatístico linear generalizado, como a regressão linear simples ou múltipla, em relação aos valores observados de uma variável aleatória. O R² varia de 0 a 1 e, às vezes, é expresso em forma de porcentagem.\n",
        "\n",
        "![image.png](data:image/png;base64,iVBORw0KGgoAAAANSUhEUgAAAjsAAACaCAYAAABPCYk5AAAgAElEQVR4nO2dPY7jyvX2z7x27FuT3PSyswtcwMP2BkStoKkFGE1twJIcGA4MsLUCUSsgldjOyE5swInYKyAHduZA7MiGE9LeAP9Bv6empJYoflNSPz+ggZlWkyKlquKp8/GcT3me5wQAAAAAcKP8v6EvAAAAAACgS2DsAAAAAOCmgbEDAAAAgJsGxg4AAAAAbhoYOwAAAAC4aWDsAAAAAOCmgbEDAAAAgJvm50NfAAAAAABAEVmWURzHFIYhvb6+UpZlpGkaPT4+kq7rZ4+HZwcAAAAAF0uSJHR/f0/j8Zi+fv1Ko9GIRqMReZ5H9/f35Hne2XN8goIyAAAAAC6VOI7p/v6e5vM5rVYr+fsgCGgymZAQgtI0LTwHjB0AAAAAXCxZllEQBGSaJgkh9l779OkTERHtdjvSNO3kOWDsAAAAAODqSJKE7u7uSAhBu93unSGkgpwdAAAAAFwdnKszm80KDR0ieHYAADdElmWNz3Fu0bxE2rhvouu8d/AxCcOQJpMJmaZJq9UKxg4A4OMwnU5LVWYUoes6RVHU0hX1g+d5NJ1OG5/nXN4DAJdAHMc0Ho9J0zTabreljHQYOwPgOA7puk6GYQx9KQDcFGEY0ng8lv83TZNGo1HhMa+vr+Q4jvz/NRo7WZbR/f09JUlCRG8eGtu2zx6z2WzkMUQwdkBzun6+1TF0iIgoB73i+35ORPl8Ph/6UgC4SebzeU5EORHlQoh8t9udPWa73cpjdF3v4SrbR70HIsp93z97TJqmuaZp8pgynxUARei6XnreVSWKolwIkeu6nqdpWulYJCj3SJZltFgsSNf1s7suAEA9bNuW3oksy0qFdwzDIMuyur60TjEMg0zTlP+fTqd7XptjlPEAAVAF3/dLz7sq8DmPeXTCMDybtwZjp0eWyyUlSVIqmQoAUA8hBLmuK/8fhmGpPJ7Hx8cuL6sXXNfdM/QWi8XZYyzLwnoEWkPTNLJtm8IwpCAIWjvvYrGgOI7l3M6yjLIsk4nKYRgWn6B1PxM4CsJXAPSLaZqVw1nsIr9meK2hCuEsy7IQxgKtomlaa+GswzF97Ge73RaeAwnKPZBlGY3HY0qS5KzwEQCgHQ6Tdg3DoO12W3hMHMeUZdnVFw9MJhO5qy4juJYkCSVJQrquY30CrcCtHEzTJN/3G53L8zx6eXkp/Bs1fH0MGDs98PT0RMvlkmzbpqenp6EvB4APAy+4jO/7e3ktTeFOzEmSnMz54XwCXdd7q3TKsow+f/4s/9/GA0eF7/nUPXGIgUGF18eEje4oikp1Ju+Uxv4lUEiaprkQItc0rXL2OACgOXXCWWXY7Xa5ruvy3Jqm7b2epqkMDxFRvlqtWnnfsriuWzmcdY7Dezp1Xtd196q8EL7/mOx2u4upcESCcsc4jkNZltHj4yPcwwAMgJqsXDZp9xxZltFkMiFd16XHJEmSvUTo5XJJnufJed+3d8OyrL3d9HQ6bay0vFwuKY5j8n1f3s+xqhvLsva6U5/TOgK3iaZpZJomxXHcarJyLYa2tm6Z3W4Hrw4AF0DbXo4oiva8FeztME0zz/M8X61WORHlruvK9x9iDeCdNf/w9dUhTdPcMAx5H+pnesxbxp8B1r+PDY/BQ89n38DY6RDbtnMiym3bHvpSAPjwqCGntkXP+MHP5xVC1A7dcHhM0zRpLDWB16G2DD0mTdPCc7IBiPUPcCi5jfFcFxg7HcELnhACuxoALoBDL8e5UtUq8INfCJEbhpFbllX7XKoC9CmvSVVUQ6/N/BkhxEmDhkuPsf4BVvce0ruDnJ2O8DyPsiyDYBcAF4KmabJiStf1VqtDhBAkhJBVSGq+yiXAKslCCHp4eGjtvPwZfv36de/3QRBQkiQ0m82w/gEyDIM0TaMkSQbL3YGx0wFZltF6vSai21BlBeAW4CRJIUQnKuacsPvw8NDo3OqaYVlW48TmLMtouVwSEdFsNmtVQ4iNnUP12vV6TZqm0Xw+b+29wHXDBjc/G/sGxk4HBEEghckG1xYAAMi+OlmWkW3brYsGsigf0XsvR1V0Xac8zymKor1KsrpwBZVpmq3rfB2rsgrDkMIwhFcH7MH6VmEYnu3Z1gmDBdBuGMMwBk/GAgB8gxMkm1QjnYKrlDgvRgjR+nvUhSuiusqdUZOUObfIMIy9qi0AGE5ab5LTVhcoKLdMGIY0Ho9LSbSDj8H9/X1jfZPZbIaQQE0cx6HFYkGaplEURa3PyclkQkmSkO/7dHd3R0REu91ucNXgJEnk2GtbOVrl8+fPlGUZbbdbqT+03W6vvuUGaB/1+Zimaa/v/fNe3+0D8Pz8TERvCVkwdADR21hwHEf+/1zSOnfyVV29r6+vnV7jrRLHscxXaStPhw1XIQQtFgsKw5C22y1pmraXhMnGqeM4vRuqathuPp93ZugQvYXdOHS1Xq9pPp/D0AFHUROVPc872WKlE3r3Jd0w3BqCWtSyANdPmqZ70vmGYZQ6TpXlh9x+dTi8VOXzc103n8/nhSGY+Xyea5omvx81XM1l4yykt1qtBhHVY20dXddLvTeLJNYpx+d7hoAqKAOPly5CykXA2GkRbkMPbQlwCOtM8E8ZY1g1kmDsVIcX1Sr5I5zbU6RtwwbUse8liqK971kIkUdR1Og+qqKuQ2Xf+1Dxuc77YZMHyqDOkTaFPc+BaqwW2Ww2RIQQFniPYRh7oYTpdHq2IkEI0Wn44ZYJgoAcx6lUZs7hQ6LiPlaj0YgsyyLXdd/p6ei6Tq7rkmVZZNt2792ekySRvaps2y793i8vL0REjdatrsNl4DbQdV3Or141d3ozq24chLDAOeqEs3jXDM9OeVi9vOpcVNsqXCvsmaoyXlSvY9UwFn/WZcNlAOT5N69rn93QkaDcEmEYysRFaOuAY7CXYTKZENHbmAmCoHA3bJomua47eGXPNbFYLCjLMtJ1nbIs2+tEfowsy+jr16/y7671s3YcR+6Uf/jhh1L3rQqgElXz7Kgd5H3fhzcblGY0GpHjOBTHMSVJ0s+c682sunF4R9WnpQquEx4r1EFDyjx/8yBFUVR43iiKjuZznDvu0uHckyY/1ziHoyiS3qwmP2XHTJqmuWmauRACnmxQGVWfabVa9fKeMHZaQA1hocMvOIc60anlqoQoivZCZYcLCT+k+HUOW0RRtNcs8liI7TAMd0nieXne3gP/Go0d9bvrytixLCsXQuS2bee6rsPQAY3gRP++qrIgKtgCQRDI0ESX4l3gdlDHDFE744ZF5CzL2mu4xwJ3rL3Cv2fhyyzLCo87hEXkdF2nKIoaXXObqAnGTRBCXJ1OTFuJnkVj8O7uTibVCyHIdV2sdaA2T09PtFwu+xPg7cWkunE4sREl56AKaglzG+Gs1WolE1NV7xGXE9u2LXfjURRJr8+p4055Kdm7Ay/mx8K27Xw+n+eu62KdA41RJQv6aK0EY6cFePHvWyQJXDe73a6zcFaefzOmbNuWC0uZRaXIvcwaGTDsAQBNUDdWffTKQjVWQzibnIjoy5cvA18NuCY0TaPVaiUrWtrWnBiNRhSGIT0/P0sZ/zLy7Kr8/yH8uyodraMooj/84Q/VLv4If/rTn+gXv/jFydc/ffrU+D1Ad+TImAAKHC7mqlTXdTt9Pxg7DYnjWP4bJeegKvP5nNbrNSVJ0nr+A4/HOI6lyF0ZuCyUS5NVo+b5+ZmEEJV6Pf3zn/+kv/zlL9Uu/gj/+9//Co0dAMB1wRurLMs6L0GHsdMQbvxJBGMHVMdxHEqSRCZ8tomaZPv4+FjaE6MeF8ex/D97e2zbrpRMaBgG/f3vfy/996c4Z+jAcwDAdcEbKyLaa57bBTB2GsKeHVUCG4AyJEkiO3K7rtt6NYLajkI1Ws4hhJCdidXj1us1aZpWeUH6/vvv6fvvv690DADg9lHXpK9fv3b6XuiN1YAkSeQDBV4dUAUuA8+yrJOeQkmS0Hg8lgY49z4qCx/HCxDH1at6dQAA4BS8sSLqvk8WjJ0GqPk6o9FowCsB14bjOBSGIem6XjqXpixsSBmGIRtVVtWf4fHMLVCWyyUZhlEqwRkAAMrC3h3OEewKhLEaoBo72O2CsgRBIMW02g5fsaGTJMme4J+aAJhl2dmwFnsqwzCUPWy2221r1wkAAERvfdyYKuH2qsCz0wA1xogwFigDGyNERLZtlxo3nuedbeo4Ho9pMpnQYrGgMAxptVqREGLPTcznWC6XMlfoFOpua7lc0mw2wxgHALSOuq6oDoS2QbuIBrB8+qXJ5oPLZTKZyKoDDjGd4+7ujoQQJ8dYlmX0+fNn+X/XdffCTdPp9F1H7+12ezahnttCGIaBrtYAgE5Q1y/TNMn3/U7eB2GsmqhigqjCAmVwHIeCICBN00rn6YRhSEmSFLp22SARQtDDw8O7vBo2qtgwn81mpcYsGzfsJQIAgLZhD3Rbve1OAWOnJmpZL4wdcI44jmvl6Ww2m7N/o2laYT5NHQ0f1v9ZrVYIX3VMGIa02WwoyzJ6fHzcq8xTX2PFbQBuDU3TKI7jo0KmbQFjpyaqsYM2EaAItcycH2TndjBZltHLy8u78FMfhGFIy+WS5vN5pyJf4M2oXK/XcpEPgkB2gF4ul+R53l6FSpIknbn5ARgKwzBkvk5XScowdmqi6pbAxQ+KWC6XciIHQdC5nkRV4jjeay0xmUwqhdpAPdjQ8X2fdF2XOVJJktBms5EVdZqmyVyvIAg62/kCMBTfffed/PfVGztJklAQBPT6+kpxHMsqkbL5A5eG6tmBmx+cwvM8KYfehK4ebnEc0/39vfTgeJ4nw2J4oHaLZVlkmua79e/5+Vl6cPg7eHh4uDgjGYC2UJ+hXWnt9GLsOI4jS11t26bRaERJktBisSDHccj3/dYVZLuGvxC1tBeAQ3RdbyXPoiuDmj1ObJCh8qo/ODGTiGS+AtFbGPHQ2OTXNE3DdwNuDvUZ2lXbiF6MHY5Hb7fbPffU6+srOY5Dm83mqowdtU0EDB1QhK7rF+35E0IUVnKBflA9xbPZ7J1Bw2HzSx5LANRFfY52VZHVi7FjWRYZhvEuDscdT9WJfg2objbsssA1Y5rmVW00bpXn52cielv0jxmc7IFDMQS4RdTy864oZewUxYr5YV+UUKRp2lEPyLV6R1SVx2u7dgDA5cFryjHDU9X06kpKH4Ch6br8vJSxwxohKsessCqqsFmW0WazISEEzWazkpd7GcCzAwBoC+5VRnS8oTC/xiFHAG4R9VnKAqhtUqo31tPT055rdbfbUZqmlOc55XkuDRzHcWg8Hpd648ViQXEc02q1uroJrCZQwa0MAGiC6ik+tsBziOva1kkAqqBGSbrokVW6EahaDXAYupnP51KhNQzDsxf69PREnufRarW6yoRIeHYAAG2hem6OhcX5dYTMwS1zrPqwTUobOzzhTrmW1F1HUY4Pl6Hbtn216qwwdgAAbcGVVqc8N5yvw15k1kYC4JZQhQW7MHZK5eywqidRubDNf//736O/dxyHFosF2bZNT09PFS7zskBfLABAW5yrtOL8SFZVXq/XULcGN4f6LH19fW39/KU8O2rd+ynPjhq6OpZkFwSB7LdzaOi0oTALAADXhlppdWpt5QKOMAxpvV7TarW6Wq84AKfoOoz1Kc/z/NwfPT09yWqsNE2Phm6m0yl5nkdCCNnIjsmyjO7u7kjTtHfdl9kIKnEZ72hDn0dVMS3Lp0+f5L/rXDcAAFSBvetQUAa3ShiGssDJMAzabretnr9UGIurj3RdPzrRwjCU3Zlt2373N8vlUpZXHos11w0FTSaTxlnblmW9M8CKQAgLANA3QgioJ4Ob5rD0vG1K6+wQvU+gy7KMlsul9OicSjr+4YcfCmPMdXcqp4yvKvzwww+NjgcAAABAMwYPY6neGLU0klUOib41O/wIOw/189B1naIoGviKAAAAgOsmyzL6/PkzEb3ZGmmatnr+s54dNTmZG9RxZUCWZZXDQNdO2xanmv8DAAAAXCtt5bAOUnrO+Tqapu1VUVmWRXd3d+R5Hj08PHzIZoJIFAQAAACac/g8bbs/VmnPzmGIipWUkyShxWIxiLHDTcOacKpJ6SnatjhRzQUAAAAc77nZFoXGzjkxQdM0yXEcSpKkky6l55hOp71XY6nAswMAAABcPoXGzjkxwdFoJAUB4zjuvVHdw8ND46Toqo08u7I6AQAAAPBGr2Es1WtyzJBRfzeEsXPNLScAAAAA8I0uw1iF7SK4Qd0p1U5Vffj5+bmDy7tsLimMxVIAqiQAAAAAAAo8O2EYyjBW0cPTNE3yPE/+fd/eHfCmNnl3dzf0ZQAAAPjAXHLBzVHPjud5NJlM5P+zLKP7+/ujycBq08/xeEyLxaKDy7xMLsWDwtehadqHEHYEAAAAqnDUs2NZVulS8ip/C7qBjR3TNGm1Wg18NQAAAEB1unQgnAxjVclHuaTcla65xHstkgcAAAAAPjqlGoGCy4at4Us0xAAog5pcj1As6JMhNOKa0OR64zimJEkoSRISQpBhGJVEdfuk7e8Exk5Fuu7MWge1pQe4frIsI8dx6Pn5mXzfpyzLaLlcNj6vbdudGRJZltF4PCbDMGg2m5Uai1mWURAEtNlsKI5jWXaaZRkZhvFhmguDYQjDkNbrNYVhSL7vExHt5arWZbvddjpuJ5MJJUlCj4+PpeVXHMehzWZDSZKQruukaRp5nkdEzYR120Z9psLYuSAuxdhp6tlJkgSG0oUQhiFNp1PKsoxmsxkRvRmxvCNjylQ9qqKgRCTP1wVCCHp8fKT1ek2O49BqtaL5fF54TJZlNJ1OSQhBvu/Le1osFuQ4Do3H46Odj69xvML7ejnw5sHzPNJ1fc844bnG2LZ99nxsRKjn75LtdkuO49BisaDn52dyXfesccXX6LquzLFdrVZ0f39PnufRaDQiy7L2jrnGeVZIDioRRVFORDkR5ZqmDX05eZ7nuWEYed2vcrvd5kKIfLvdtnxVoCqr1SonotwwjHy32+295vu+HHdElPu+f/Z8URTlQgh5TF/f8Xw+l/dRRJqmuaZpueu6737P1xxF0d5rruvmQoh3v79k0jTNTdM8+3mA7uHvgojy+Xyep2m69/put9ubZ6vVqtR5dV3vfZ5FUSTf99x72rZ99F54rtq2vff7NE1zIUTp+28D9bMXQrR+fhg7FVEX4i6+kDpomlbL8OKHoWVZ7yY96Bc2dHRdP/ld8CLNY6/Md+a6bu+LcJ7nuWVZORHlpmnWOp6NtEOjL8/fjPtrMXj44SqEKGWggm7hh/t8Pj/7N/xzbAweom6C+5xnu90uF0LUng88Tw+NnTz/tiYdbka6QjV2unAkwNipyCUaO0KIXNf1SsfwJCl6uIJ+YKPznAHDuy0ef2UNCU3Tel+E8/zbbrfqQ54fHJqmHf082CNU1uAbEn5wwtAZHvaOnhpXKjxnyngoD4/pe56p91UFdR6dMpR4g9XH+FUNxqrPszLA2KmBavUPDVvDVVzkaZrK3THCV8PDYchju6tD6oSz+IHb93fNi1eVTYE6NovubbvdVh73fcM74yIvAugPNr7LeCp4fFUJZw01z/L8m6FVxQvD11t0jGoQlfFwNUH9zLuY18M/ra8QdXc99M6SHyhVFlRehMs8XEG3qAZB2cWEjaOyhkQURfl8Ph8k7FN1ES6zADPsgu/LzV4F9pyW8SKA7uFNQhVvII+vsvNzt9vlrusO8n1zuLrsxqLKM6CvjYUacrcsq/Xzw9ipgZqMNnTeAA/EssaOGuPFIjw8tm1Xzm1RQ6lN8mL6gI2XMi52/izKGi/8OfSx66wKPyj7TPAEp1GTksvCXo2uvA1pmubb7fbk2E3TdO/n3LnK5hjV8Tj2Ec5SjZ0uvKEwdmqg7qyHDgPxACn7gChKSAP9w4tp1e+DF6wq4ayybLdbadBrmvbOoFeTbs/tJNWwW9EiXDcZkg2kLnaCdeENCLw6lwN746vOk8OwcVtexNVqtRchOHbe7Xa7Z2ydG+P8t0UGdt3QKqdLdJmnqq5pMHYuBNW9ObQLnQdI2VLkqq5c0B1qQl4dY0X1MLa1CEVRlGuaJo2ZQ88R59SU3e2qO85Tc4XHcB0vSJUdbV9UycEC3aPOszpj5LAKsuk4Y0PHtm05h0/NXzWP5dx44us85ell2YZDQ6Lss4DP39Uzr+vn6tGu56CYS1JRfn19JaJy6snr9ZqI3sTlIG42PKoQWR3FVVZ9JXobh22ovy4WC5rNZuT7vmwqq4oTTqdTiuOYfN+n+XxODw8PhecTQsixpt4vE4YhLZdLms/n70QIp9PpO2HEY+dnMbQ2VKabEoYhhWFIQoizooqgH1SRwDq4rivHMAthNuHl5YVc16WnpycpWphlWeFYV8f5KfgZcOw8SZLQYrEgy7LeNYtmAc9zPD4+EtHbGtEFXaonE9EFlBNdIaq7bejdG1vbZZLneKc+dJ4ReEMdR3U51ARpM6x6KO7HO9KqXijevR7uONM0zXVdl1pP8/lc/lRJPq6T5N0VdXJDQLe0Mc+6Cmepc+yYZ5OvvUxeHod0j3mJeFxqmpbrur73w/OvDHWqvsqieoy7mMfw7NRA9aJwX6qhOefZ8TxPNllEv6HLoskuZrVa7X33bXo3hBDy3Ov1mpbLJdm2LeXmq5znGEEQUBzHlGUZeZ5HjuPIH+7bU+az4V4/3GtrKJIkkbvqcx4v0B9ttOowTXOvRctms2l8XUT7c+zl5eXd6/y7Mq1eVO+T6iXJsoziOJbvozbd5aaiP/zwQ6nr5bnPUYI2Oeb5bRMYOzVQjYWhw1jqIC6CJycW4cuhrbGjuqXbNmR5cfM8jyzLahSaObxfy7Jot9sV/pTpAaZe55ChLN5QaJpW+rrB9aA2y2xzHeWxexhuS5KEgiB4Z2id4pQxJ4Q4O8/KNhRlo+uwV18b8Pk0TeukJxeMnRqog6ppPLgNzu1YgiCQA+lc3BdcHzwGdV0v1biwCqPRiIjexljTcx8bp7ywnfopuxvn68yyrPMd4imen5+JiCp7vsB1wLkqTY3+Q758+UJE7zcDnudVmned57zQviHC3tc2UOdsV9cOY6cGatLlkJ4dXtjPDQ5+GHZlMYN6tDGGwjCk9XpNQoi9RMq24EXo0DVehT46fpumKc8/RCgrjmM5z9jwApeBGr6pi+M4FAQBaZr2LsG3Key1UQ31LMtovV6TZVmlvbV8f12v8Xy9bYaymhZrlAHGTk3UL2SonSS/77nBwSGsW83V4Zg0V8JcC+qiVGcMcWVIlmVk23br328cx7RcLqURUfez7cPYIfo2vocIZamfDebZZaGOuzrzTJ0HXWwojq0DjuMQEVXypnJlbtfzrAsvah+enZ93ctYPgK7rcsInSTKIx6TMTiVJEjmQ2F1aBJcWN8EwjNZ3P8fwPI/W67X8/IUQ8jtZrVYXX/qrxuHrjKHpdEpJkrTuVif6VspuWZbMHahrkPFxXXs8eE6qiZd9wYmknCxdRBAErRhkvu/3su585Hl2uKHoKhdL13XpHdQ0jdbrNdm2XWkM8/Og63wx0zRl+X0QBK18/+ra0tU6Ac9OTdTs9aHydsoYMeq1ldlxjkYjOeniOCYhhKzgOvbDVTDqMX19HsvlkpIkIdd1KYoi2m63FEUREb3F14fyuJVFrcSo+pl16VbnBZ7zBXh8qW7rsp9tnx4PdZHse06qoeJzGIaxN2eSJCmcY7qukxDi3RzrK4R+S/OsqkdquVxSHMdkGEanRh0bKK+vrzSdTknX9Ur5lapOT9ebCtUAa6saWT1PZ+tE68XsHwRVd2Go3kRl1JNVjYk6jSbL9DTK828aD9RDwzjGsqyjOkd8/dfQl4h1cqqMoSiKZKuGMro653rw8N/oup77vi/Vk1mP6bDlA7eLKPP58rjQdb30/dXlnGZJV7CUPlXQ16nTvZ6/dz6mL72sW5pnVZTG1eaaZdbONE1z27ZraV3xOs3zuup3W6fRaRNYO6utec36PV22o4CxUxN1Ye3r4X4IP0iKJgaLSVUZROriXWUB5wE71OfBdC1r3ibqZ112QeWFpqygJYvuFX2Pqiz9MeFA/m5VMbIyi2qXImTHGGIDon52Ve7zsA1Bmc9TbZY4tDjoNc2zqm1FVBHWsiKabHDUEZRUjd86QrX8XfTVI45FP9syTvjeu9wUIYxVkyYhiLZg119RXLeKe505DI04jlPqHtsue64DhweEEFehdaJp2p6WzTnquNXZvf3dd9+d/Buu6tN1nVzXfVc+7bouaZom/2673ZaWPFDvsWt4nPcZWlHnRpUcC1W3pWwbAsuyLqKi8trmmdpu4Vy7AzVPZz6flx67PA6K5tkp+DutEy5jMUshRCnxwTZQK0mbzrWqqRa16cyM+gCojcuGkKlna74Ivr463ha10WSZcBbvnob07LC7+hpc64zaUbhoHFV1q+f5vieoz89Efd82O7Kfg0MrXbrDD1FbdlRdB+qEs/j9hvTsXOM8S9NUehqLQk1q6LVsSChNU+kJqurp4ua6ddud8HOgz9ZFanpE0xY1qreySy8hqrEaoCYpD1GRdU49uY1Gk3d3d/JcT09PhUqbQgharVaDNRnlVgPHmkpeMpqmke/7NJlMaDwe0263e/c33MiPiORnfC5BNUkSWq/XcufU1/eSZRktFguK47jSzrgNDiXx+7hndZ5VXQNYHZe9b9Pp9Ozn9fj4SN99991gHp5rnWdCCPJ9n+7v72kymdB2u323LgZBIBPxHx4eSiU0J0lCm82mtsQCe2vZe1qF6XRKQRCQZVmlVZDbQL1O9jTXpcn8qURnZtQHQN2VDbHD4aZup+BcDWrQmPCw0WQXu8k0Tc8mz57b8XCTymtuwMi7JV3X9+6Xd37q91Dnpw8PS5qm0uM5n897SZZUUcdrX56Ppt4kNZ+EOsg3KjN/ysJj9JrnmZrgr3oSVB3thR8AAA4USURBVO9MV/MsTdO9cclepKrPj6HnmZqn1vTZp+aVdnkfMHYaoC5SQ1Rk0ZmQUVsDkl2/VDKcVRau6in6DNmIKbqHWzB0mCiK5OfNi5ha6Xapxg5fp6ZpuRBisPCG+ln1Zezw99VkbqhhAWohNMC4rrs3f4+d1/f9XNM0+XNqHt3SPFONBV3X8yiK9tISmvwUfXf8Ga5WK2kkV/08bdvOhRC5pmmDJYerG+mm4bO+ClsQxmoAJ3SyqmifqP2QTtGWKqXrujQej+U52YXdhMMkQNaNieNY3pPjOHvJhMfuNQxDWi6XZFlWL0KGXaPrOu12O/I8jzabjUwIbqOnWZfJf0II+vr1K81mM7Isa7BQpkrfrVya3PN8PqfNZiPn9WQyoTRNG12P53m0XC7JNE3ZpPTYeU3T3EuQPpZgy0KItzLPWA3Ztm0KgoCEEPTw8NCKRk3RPHt5eZFhXg77V11LuYBEbZHSN+r7snJzHdSGop0rj3dqSn0AmiQnNoG9NkW7gjYTvw53PU13zb7v7yUAsnXPu4Ttdit3kbvdLrcs652Lk8tDj71m2/ZN7EBBNVQPSV+J0ex5bFo2eyj50LSMmHWT8nx/LTi2TvF6cixJFvOsPWzbzk3TzG3bHlw6oAltRTXUcdn1fEXpeUPUnUCf3p0y6sltdsFdrVZ7yWOTyaTR+UzTpCiK5HVxUubXr1/3WhXw+x7rSbNcLmXp43Q6pclkIpN81+v1oE1awTCoY6TK959lGT09PdFkMqksJdFW7y9N0/Z2+Z7nNVpToiiS80pNej7WKJXv2TCMd0mii8WicJ6B8jw9PZHv+/T09HSzPdSqwG1WiLr37CCM1ZDDvit90VdzRYZdrmzksLZDWxobo9GIHMehMAxpOp2SpmmFuj1xHEtdmlMPhKqfze9//3v697//XemYQ375y1/Sb3/728K/+fTpU6P3+Mjked7JeReLxd54ahpCqstqtdrrQ7Zer1uZY6wLliTJUSOQHzqHOi1xHEvjqK3N3O9+9zv6z3/+0+gcv/rVr+g3v/lN4d9gntWnq3l2iJqO0XV1IYydhqh5O+v1urfyP16w+iw/Vctk+b7bghd0FitTvT7H0HW99Qn5t7/9Tfb8qcuvf/3rlq4G9Im6URmikaiKuqlos8+RruuUJMm7fkbc6JXn9+Exbc+zv/71r/SPf/yj0Tl+9rOftXQ1YCh4rSfqvnkpEYydVnh4eJCN+fpaJDkprM8FOUkSOTiPhZWaoO48Z7PZIA+aP/7xj/Svf/2r0TlYl6iIvnZNoDyqpophGIMmWG82GyJ621y0qWPz5csXCoLgnYeGPVp9qe/++c9/buzZwTy7ftRx2HXzUiIYO60wn89puVwSUXOBpbKU8ey0uWDXlVCvcn7m5eVlELGyH3/8kX788cfe3xcMz3w+35Psr0IZgceyqN3s1XYSbcCeWHVTlmUZrddrms/nvbV9+Omnn+inn37q5b3A5aKKnfYhPIoE5RZQ+2T1laR8Tj35kKaLMefT6Lreeg+sw75AfZfxg9uhSVK+aZqNynmbzrE4juWmqQsl8mP5hY7jENFl9LUD10MbxS+cJ9aXkQ1jpyXYMu2zOuHcIKtbmXIIa2ywNkXbizDLpW+3WyL6tvME4JpoMmZZe6UrzynR+00ZtxMZKmwMboM6YyfLMrmpfXx8bPuSjgJjpyU45thGF9gysNhcEW0sYKrXxbbt1ssDHcchz/NkiTlfs1oeC08PKItqcPSVvK/246rLcrmU1Y1delnUUNZ0OiVd16+qvxW4DJpuRnlNb7vQpQgYOy2hJjUe07Fok7KKk+piX3dwqnk6ZRbFMAxlwuMpFosFTSYTWiwWtFwuaTabyZ0s39Pz8zMRvSVPNtX0AR8HVc21T1mGJgRBQI7jlG6km2UZeZ5XWQ+I6JsuFzeItW0bXh1QGfV5UqT1dgpOwj+m69QVMHZaQk2yUoWSuqCs50hdxA7LTcugJkuW3W2u12tpIJ2CtTscx3nXrZddmkEQ0P39PS2Xy9YTNcHtMoRn5zDxtwos1Ef0VuFYZpfLWlR1NlXqtc5ms97yJcBt0aQVkVpy3lcIiwjGTqs8PDwQ0dti1GXOSRn1ZKK3QVh318bJklXydNQ4bNHfs+tytVq9M6IsyyLLsmRIi3vAAFCGIfSn1F5SVUPYdfJ0+EFR5x7VijOEr0BdmiQoc76YEKJXYxul5y1imqbUigmCoJXmjceoop6saVrlRqVqmblt26UHJDcbPLcI+75f+Do8Od0ThiE9Pz/LHb7qUVBfG41GnY3jLmBjo09jR/3sqmxy2HNapcKRS8XrwhuYLqq9wHvCMKQwDGWTXHUt5ddeX1+vbp6pkYKqc02twupzDMLYaRnTNMlxHHp+fu7c2CkzyAzDqBzb5+ooXdfJNM1SxwdBgD45V0CWZbRcLqVhSvT23aVpKo1cNTzieV5vOhhNUYsD+uw7pC7YZXW2wjCUZeaPj4+lPEJJktBms6ndKubp6YmCICDf99GXqQccx5H9+4jevvPdbkdEb2ssl/0Tvc2zl5eXq9noqc+gqhIovL70GcIiInQ9bxvuBiuEeNchuMyxtm2f7Z7OHcjLdFm3bbtSV3a1a3Tdn6bdn0F3WJaV67qe73a7PIqivbFhmmZuWVa+2+3yNE1lJ/pr+T7V+3Fdt7f3VTtA27Zd6u91XW88z7bbbeF7qOsPz2t0KO+H1WqVCyHy7Xa7Nz62221uWVZuGIbsem6apnxmXAu8NhiGUek43/dzIso1Tav8fGwKcnZahrUsuGKiDGztckIu7/iK/p6onGdH3cGd89AkSXL2vcsA9/jl8vj4SNvtdm/sCCFovV5L1V7Ol7oGb46KOr779uzw51mmEGCxWNSqpDr2vqfwPI/u7u4oCAJaLBa0WCxoPp/TarVq/L7gPIZh0Ha7fReqeX5+pjiO97xrnHt5LdpiTTyoXIX1+PjY+3MCYawOsG2bptOplGEvIgxDmaTIeJ5Htm2fNGaqqCerLvU4js8+wNoIvdUpRQT9cExFlxPLWdTx8PU+81+awIZGn9odDIevy+TGffnypZXk4KKHxcvLC2VZJmUbYOj0y6lNJs8z9bvjf19LaFG9nyo9rdQCliHyk2DsdIBpmrRcLilJEkqSpPBh8fz8TI+Pj2RZFsVxTOPxmIjedn9FibxlrWK1K/u5XaemaVgQPxDqonUsYbVJ1c8Q9NlB+ZDRaESO48hdb9Fn1kcVFM97lo24lgfpLaLOs2Nq1Zywe23zrGo1Fc8PLuTpnV6DZh+I+XyeE1FuWVal4zh+S0QypntI1fNy3s41xYRB9/BYM03z3WtqnoHv+wNcXTWq5s10+f6r1ar39weXC+dYnsp94/yXPvPMmlC0bhTBeWpFuWZdgpydjuBS0iAIKsViVc+K2hyT4dBClXgn7yRVNyL42KhjgfWhVFS9pGsQnlPH9RAu8j5FRcF1wWPz2DyK41iu6dcwz9R1o0q6QhAEslJxqPuEsdMRQgiyLKtSojLRmyuTF2tWGlZhw0kVMitzLew25AQx8LFJkkSOpVOLMNFbHsE1JJzzuB7MRU77oqIAEO0n8x7Lb1E3FdcQxmLBXH6+lYVlSWazWVeXdhYYOx3CXpqqFU5F3p26eRSqpwmAc4ssGw/XkOsxRAflY5imSUKIyhsccLuohu+xuaQK7F0DdXpasXgi67YNBYydDqnr3VGt5sNj6wqK8Y5XFXUCH5eiRfbcbvTS4N2mpmmDPjTUecuNbMHHRvWQHjMO+PVrmGfqpqKKh4a9OmVVwrsCxk7HsJdmsVhUPo4NGvXYur1/hBBy14uFGBR5CFU1X37d87yjOWSXAC+mQ2h3HKJ6UKv2yQK3B1fAnvKQHso7qBW5lwarrlfJuwnDkIIgIMMwBtftgrHTMUIIsm27lneHF84sy2Rn8NfXV/l6VThR2fM8LMQfGDUp8tiOUjWANpsNLRYLWi6XF7n75L5vQoiLaGypenfQPuVjcy6ZVy1c2Ww25DgOjcfji5xnRN9CWFU8NJzCMbRXh4hQet4XmqblQohSLRsOj6P/XzbOkv5NvjYuQ69aEg9uB9d1z7YQUdsZaJp2seXnXNY7RLn5KdSWMVXnO7gd1PYlp8qtWaKEx8ullp9zm4cq5eZ8zKU8a2Ds9MR2u631xasPJu5rpGlao2thAwoL8cckTdN8t9ud/f5938+jKOq9h01ZeE7pun5x18ibCvSi+tjwPCsan77vyx5alwj3cuNeX1WPuZT7grHTI+yVOSUWeAo2Ttj6b9qYkR8SVZu4AXBJGIZRaQHuG/aOYVMBrpk6TWT5mEsS2ISx0yPcSbqqZ4aNE9XD0xR2n15qeAKAIq6hi/dut8OmAlw1URTJDXZZD81ut8uFEJUVlrsGxk7PsOFSNcdAbSPR1gLPO+OqniYAhoQXYMuyLsZFfopLy1sAoCxpmtZ6RvAxl+bRRDVWzxiGUasxnyo0WEU9uQjf90nTNBqPx3vN6gC4VLg0l5vWDl1qfg7TNGm1WpHneeQ4ztCXA0Apsiyj6XRKcRyT67qVnlej0Yhc1704RWh0PR8ALiOvAreR8DyvtUEkhKDtdkuTyaRS/y4AhiLLMtJ1nXzfv3hDh5nP55RlmZSNAOAayLKMXNetrI9T5/nWB5/yPM+HvghQjizLaLFY0OPj49XIiwMAAABDA2MHAAAAADcNcnYAAAAAcNPA2AEAAADATQNjBwAAAAA3DYwdAAAAANw0MHYAAAAAcNPA2AEAAADATQNjBwAAAAA3DYwdAAAAANw0MHYAAAAAcNP8HxzuATV3FtFfAAAAAElFTkSuQmCC)\n",
        "\n",
        "Onde:\n",
        "\n",
        "* R² é o coeficiente de Determinação.\n",
        "* y é a variável dependente ou variável de resposta.\n",
        "* x é a variável independente ou variável explanatória.\n",
        "* n é a quantidade de dados da distribuição"
      ],
      "metadata": {
        "id": "OAEuAErFhkON"
      }
    },
    {
      "cell_type": "markdown",
      "source": [
        "#### Função em Python"
      ],
      "metadata": {
        "id": "kkUpQFWXt8Gs"
      }
    },
    {
      "cell_type": "code",
      "source": [
        "# Função para calcular o Coeficiente de Determinação R²\n",
        "def calcular_r2(lista_dados1, lista_dados2):\n",
        "    # Calcula o somatório dos valores da primeira variável e o somatório da\n",
        "    # segunda variável\n",
        "    Sx = sum(lista_dados1)\n",
        "    Sy = sum(lista_dados2)\n",
        "    # Calcula o somatório dos valores ao quadrado da primeira variável, o somatório\n",
        "    # dos valores ao quadrado da segunda variável e o somatório do produto entre\n",
        "    # os valores da primeira e e os valores da segunda variável\n",
        "    Sxx = 0\n",
        "    Syy = 0\n",
        "    Sxy = 0\n",
        "    for i in range(len(lista_dados1)):\n",
        "        Sxx = Sxx + lista_dados1[i]**2\n",
        "    for i in range(len(lista_dados2)):\n",
        "        Syy = Syy + lista_dados2[i]**2\n",
        "    for i in range(len(lista_dados1)):\n",
        "        Sxy = Sxy + lista_dados1[i]*lista_dados2[i]\n",
        "    # Calcula o coeficiente R².\n",
        "    # Se a variância de uma das varáveis for zero, então não será possível\n",
        "    # calcular o Coeficiente de Determinação r²\n",
        "    try:\n",
        "        r = (Sxy - (Sx*Sy/len(lista_dados1)))/((Sxx-(Sx**2/len(lista_dados1)))*(Syy-(Sy**2/len(lista_dados1))))**0.5\n",
        "        r2 = r**2\n",
        "        r2 = round(r2,4)\n",
        "    except ZeroDivisionError:\n",
        "        r2 = \"Não se Aplica\"\n",
        "    # Retorna o valor do Coeficiente de Determinação r² caso exista\n",
        "    return r2"
      ],
      "metadata": {
        "id": "B8FrthAshnxT"
      },
      "execution_count": null,
      "outputs": []
    },
    {
      "cell_type": "markdown",
      "source": [
        "### Regressão Linear"
      ],
      "metadata": {
        "id": "pm7uGYR_oWXV"
      }
    },
    {
      "cell_type": "markdown",
      "source": [
        "A regressão linear é uma técnica de análise de dados que utiliza uma variável conhecida e relacionada para prever o valor de uma variável desconhecida. Ela estabelece uma relação matemática entre a variável dependente desconhecida e a variável independente conhecida, seguindo uma equação linear.\n",
        "\n",
        "Por exemplo, suponha que você esteja estudando o desempenho acadêmico dos alunos, e você possui dados sobre o tempo de estudo semanal e as notas obtidas em exames. Através da regressão linear, é possível determinar que o tempo de estudo é diretamente proporcional às notas, ou seja, quanto mais tempo de estudo, melhores as notas. Com base nessa relação, você pode prever o desempenho futuro de um aluno desconhecido, calculando sua nota esperada com base no tempo de estudo informado.\n",
        "\n",
        "Para determinar a equação da regressão linear simples, você precisa estimar os coeficientes da equação, que são o coeficiente linear (α) e o coeficiente angular (β) da linha de regressão.\n",
        "\n",
        "![image.png](data:image/png;base64,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)\n",
        "\n",
        "Onde:\n",
        "\n",
        "* y é a variável dependente ou variável de resposta. É a variável que queremos prever ou estimar com base nos valores da variável independente.\n",
        "* x é a variável independente ou variável explanatória. É a variável conhecida que usamos para prever ou explicar os valores da variável dependente.\n",
        "* α é a interceptação ou coeficiente linear. Representa o ponto em que a linha de regressão cruza o eixo vertical eixo y quando x é igual a zero. É o valor estimado de y quando x é zero.\n",
        "* β é a inclinação ou coeficiente angular. Indica a taxa de mudança na variável dependente y em relação à variável independente x. Representa a variação em y quando x aumenta em uma unidade.\n",
        "\n",
        "Existem diferentes métodos para estimar esses coeficientes, mas o método mais comum é o método dos mínimos quadrados.\n",
        "\n",
        "![image.png](data:image/png;base64,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)\n",
        "\n",
        "Onde:\n",
        "\n",
        "\n",
        "* β é a inclinação ou coeficiente angular.\n",
        "* y é a variável dependente ou variável de resposta.\n",
        "* x é a variável independente ou variável explanatória.\n",
        "* n é a quantidade de dados da distribuição\n",
        "\n",
        "![image.png](data:image/png;base64,iVBORw0KGgoAAAANSUhEUgAAAJsAAAAfCAYAAADwQL9CAAAFiElEQVR4nO2bQUvcTBjH/3npVWH0GzhexEMvK4rYi4eulN5j0ZuHkkV6luxVpBHxqt8g9QMEbAsumEVQELLY0osJUvS2wY/wvAeZYYzJOtnqJqv5QWAg6+SZmf88M88zo0FEhIqKAfBf0QZUvB4qsb0S2u02Go0GxsbGYBgGDMPAzMwMvn37NjAbKrG9Ara3t/Hu3TtEUYRWqwUiQhiGAIBPnz6h0WgMxhCqICIi3/cJQK7H9/2izX6U/f19AkD1ev3BuyAIZFvCMMysw3Ec7T7phUFUBQgvlSiKwDkHAIRhiImJiQe/MQwDAOD7PhYWFp7VnmoZfcHs7OwAACzLShVap9MZqD2V2F4ocRxjb28PAPDx48fU33z//h0AwBh7dq8G9Cm2KIrQaDQwOTkJwzAwNjaGZrMp38dxLKOe7e3tJzP2OWk2m7ItaRFaFEUyijMMA5OTkwVYqc/p6SmAOyF9+PDhwfs4jvH161cAwMbGRmodcRw/2i/NZlOOdRRFvY3Ku+F0XZcAUK1Wkxtk3/eJMUa2bd/bUDLGqNvt5v3EwLEs68FGN23DrG6o0zbcZcK27Uw7u90u1Wo1AkCWZWXWkewXxljP94+RS2yq0JIisixLiosxRgDI87w81d8ZlDMiTHscx9H+nud5xBijIAhk5AaA9vf3e9rnum7utg0SISa1L8IwJMdxiDFGnPOebVD7RY3UhYMRDsV1XXJdV2vyaYstDEMporSQX3xczCjTNHWrvm/QgMXmOM69ThdtTJvxYRgSAOKc99W2QdHtdh+IQ4xLr4mkktUvjuNI8eWdcNpiEy4zS0RqLmZYls80TNOU3juJ8Ox5xFwEqidSxyEIAtk+seXRRfydaZrEGOurD7TEps6UrKVRFVs/y2dZUNuRRHR0nolUr9f/2VPn3R+KNqRNGNWmPIJTtxj9rlpa0ejPnz9leXZ2NvU3V1dXAADTNFOjn2Fhfn5eltU8VBRFODg4wMbGBsbHx4swTZujoyMAwMzMTOr7L1++AAC2trYQx7FWndPT07K8vr7el11aYru4uAAAcM5TOzqOYxkW92tIWZiampLlm5sbWd7Z2QHnHGtra7nqOzw8BN2tIH0/h4eHub55dnYGAHj79m3q+9HRUVn+8+ePVp1qv1xfX+eyR6AltvPzcwDIzC3t7u7i9vYWADAyMtKXIQI1l9Xv8y+5vfHxcdRqNQDAr1+/ANx5tb29PWxubpbeq3U6HTkWc3NzT1bvysqKLB8fH/dVxz+fIHQ6HZmpBrJn0zAhlh+xNbBtG/V6HcvLy0WapYXqqbLG4uTkRJZVj5VFo9HA5eUlbNsGAPz48aM/43Q2dmJDmQz5u90ucc7vbR5fAupNCc/zCAAFQVC0WVqIrEGvoIJzrh14iAg8mW8TSW8R4eqgpQ41QhO5Fd/3iXMu81HifRAEFIYhmaZZ+sRnFqJTRfKz7KkOlceEpDqGrAnEOSfP86TQxDiqWQnHceRJhG7/aIlNJDOTj2maMg0gGikezvnQeIMkaqdmpQ/KiGq3EITwQOL0QEyiLEeQrCOZ3E6mcvL0j/a653meFJRYOlVc1yXGGDHGyLKsoU3qCkRbh2nCiCVfeKN6vS4z/2LcbNvueVFS9eppHisIgnveM884v4xN1hMjBk3nWKdMCM9V1ksC1X22BFEUYXV1FaZp4vPnz0WbkwuRzF1cXCzYknSqa+EKcRxjaWkJwF0ytuw5tSTiirfneaU8xXnVnq3T6chLf+12G0tLSwjDEAcHB0MntHa7LctZR4pF86ZoA4pEJEDFP4VwztFqtVLv65ed379/A8g+UiwDr9qz/f37F8Dd1WnbtnF6ejq0JyCtVgsA8P79+4Ityabas1UMjFft2SoGSyW2ioHxPz3MbbBLOjvoAAAAAElFTkSuQmCC)\n",
        "\n",
        "Onde:\n",
        "\n",
        "* α é a interceptação ou coeficiente linear.\n",
        "* β é a inclinação ou coeficiente angular.\n",
        "* $\\overline{y}$ é a média dos valores da variável y.\n",
        "* $\\overline{x}$ é a média dos valores da variável x.\n"
      ],
      "metadata": {
        "id": "a6DJ3jAJoaiR"
      }
    },
    {
      "cell_type": "markdown",
      "source": [
        "#### Função em Python"
      ],
      "metadata": {
        "id": "_lrpSNek3FHb"
      }
    },
    {
      "cell_type": "code",
      "source": [
        "# Função para calcular o coeficiente angular da regressão linear\n",
        "def calcular_b(lista_dados1, lista_dados2):\n",
        "    # Calcula o somatório dos valores da primeira variável e o somatório da\n",
        "    # segunda variável\n",
        "    Sx = sum(lista_dados1)\n",
        "    Sy = sum(lista_dados2)\n",
        "    # Calcula o somatório dos valores ao quadrado da primeira variável, o somatório\n",
        "    # dos valores ao quadrado da segunda variável e o somatório do produto entre\n",
        "    # os valores da primeira e e os valores da segunda variável\n",
        "    Sxx = 0\n",
        "    Syy = 0\n",
        "    Sxy = 0\n",
        "    for i in range(len(lista_dados1)):\n",
        "        Sxx = Sxx + lista_dados1[i]**2\n",
        "    for i in range(len(lista_dados2)):\n",
        "        Syy = Syy + lista_dados2[i]**2\n",
        "    for i in range(len(lista_dados1)):\n",
        "        Sxy = Sxy + lista_dados1[i]*lista_dados2[i]\n",
        "    # Calcula o coeficiente beta\n",
        "    try:\n",
        "        b = (Sxy - (Sx*Sy/len(lista_dados1)))/((Sxx-(Sx**2/len(lista_dados1))))\n",
        "        b = round(b,4)\n",
        "    except ZeroDivisionError:\n",
        "        b = \"Não se Aplica\"\n",
        "    # Retorna o valor do coeficiente angular da regressão linear caso exista\n",
        "    return b"
      ],
      "metadata": {
        "id": "DIdUSrHUoiAU"
      },
      "execution_count": null,
      "outputs": []
    },
    {
      "cell_type": "code",
      "source": [
        "# Função para calcular o coeficiente linear da regressão linear\n",
        "def calcular_a(lista_dados1, lista_dados2):\n",
        "    # Calcula o somatório dos valores da primeira variável e o somatório da\n",
        "    # segunda variável\n",
        "    Sx = sum(lista_dados1)\n",
        "    Sy = sum(lista_dados2)\n",
        "    # Calcula o somatório dos valores ao quadrado da primeira variável, o somatório\n",
        "    # dos valores ao quadrado da segunda variável e o somatório do produto entre\n",
        "    # os valores da primeira e e os valores da segunda variável\n",
        "    Sxx = 0\n",
        "    Syy = 0\n",
        "    Sxy = 0\n",
        "    for i in range(len(lista_dados1)):\n",
        "        Sxx = Sxx + lista_dados1[i]**2\n",
        "    for i in range(len(lista_dados2)):\n",
        "        Syy = Syy + lista_dados2[i]**2\n",
        "    for i in range(len(lista_dados1)):\n",
        "        Sxy = Sxy + lista_dados1[i]*lista_dados2[i]\n",
        "    # Calcula o coeficiente R²\n",
        "    try:\n",
        "        b = (Sxy - (Sx*Sy/len(lista_dados1)))/((Sxx-(Sx**2/len(lista_dados1))))\n",
        "        a = (sum(lista_dados2)/len(lista_dados2))-(sum(lista_dados1)/len(lista_dados1))*b\n",
        "        return a\n",
        "    except ZeroDivisionError:\n",
        "        a = \"Não se Aplica\"\n",
        "    # Retorna o valor do coeficiente linear da regressão linear caso exista\n",
        "    return a"
      ],
      "metadata": {
        "id": "qMg2OzfKt57N"
      },
      "execution_count": null,
      "outputs": []
    },
    {
      "cell_type": "markdown",
      "source": [
        "## **Atividade Proposta**"
      ],
      "metadata": {
        "id": "i0ycbAbFSUNP"
      }
    },
    {
      "cell_type": "markdown",
      "source": [
        "Este projeto tem como principal objetivo proporcionar ao estudante a verificação  das principais habilidades técnicas sobre fundamentos de Python aprendidas na quarta semana do Bootcamp de análise de dados na turma AD2. A proposta alia conceitos fundamentais de Python com o tema da primeira semana do Bootcamp (análise exploratória de dados).\n",
        "Neste projeto o estudante deverá individualmente construir um script em Python que receba do usuário duas variáveis de valores referentes a variáveis quantitativas e devolva como resposta a seguintes medidas de estatística descritiva para cada variável informada:\n",
        "\n",
        "* Média aritmética;\n",
        "* Mediana;\n",
        "* Moda (se houver);\n",
        "* Variância amostral;\n",
        "* Desvio Padrão amostral;\n",
        "* Amplitude total;\n",
        "* Q1 (primeiro quartil);\n",
        "* Q3 (terceiro quartil);\n",
        "* AIQ (amplitude interquartílica);\n",
        "* Limite inferior (LI do boxplot);\n",
        "* Limite superior (LS do boxplot);\n",
        "* Identificação e classificação de possíveis outliers na amostra;\n",
        "* Coeficiente de Correlação de Pearson ( r );\n",
        "* Coeficiente de determinação ( r ao quadrado);\n",
        "* Coeficiente a ou alpha da equação de regressão linear simples para as duas variáveis escolhidas pelo usuário;\n",
        "* Coeficiente b ou beta da equação de regressão linear simples para as duas variáveis escolhidas pelo usuário;\n",
        "\n",
        "Requisitos obrigatórios:\n",
        "\n",
        "* O programa deve conter todas as medidas de estatística descritiva solicitadas no bloco anterior;\n",
        "* O Programa deve conter no mínimo as seguintes estruturas:\n",
        "  * 01 - (if, elif e else),\n",
        "  * 01 - (laço de repetição For)\n",
        "  * 01 - (loop While);\n",
        "  * O programa não pode incorporar módulos e frameworks não estudados até o presente momento no bootcamp.\n",
        "\n",
        "Requisitos não obrigatórios (opcionais):\n",
        "\n",
        "* Tratamentos de erros para entradas dos usuários;\n",
        "* Quaisquer outras melhorias de código que não sejam contrárias aos requisitos obrigatórios.\n"
      ],
      "metadata": {
        "id": "GPTW4f7xWX5B"
      }
    },
    {
      "cell_type": "code",
      "source": [
        "# Será solicitado ao usuário que digite os valores da primeira variável\n",
        "# separados por espaço. Caso o usuário digite algum valor que não seja\n",
        "# numérico, a estrutura try - except dentro do loop while só vai permitir\n",
        "# que o usuário continue quando todos os valores informados sejam numéricos.\n",
        "while True:\n",
        "    try:\n",
        "        lista1 = input(\"Digite os valores da variável primeira quantitativa separados por espaço: \")\n",
        "        lista1 = lista1.split()\n",
        "        if len(lista1) == 0:\n",
        "            print(\"Você digitou nenhum valor\")\n",
        "        else:\n",
        "            for i in range(len(lista1)):\n",
        "                lista1[i] = float(lista1[i])\n",
        "            break\n",
        "    except:\n",
        "        print(\"Digite apenas valores numéricos\")\n",
        "\n",
        "# Será solicitado ao usuário que digite os valores da segunda variável\n",
        "# separados por espaço. Caso o usuário digite algum valor que não seja\n",
        "# numérico, a estrutura try - except dentro do loop while só vai permitir\n",
        "# que o usuário continue quando todos os valores informados sejam numéricos.\n",
        "while True:\n",
        "    try:\n",
        "        lista2 = input(\"Digite os valores da variável segunda quantitativa separados por espaço: \")\n",
        "        lista2 = lista2.split()\n",
        "        if len(lista2) == 0:\n",
        "            print(\"Você digitou nenhum valor\")\n",
        "        else:\n",
        "            for i in range(len(lista2)):\n",
        "                lista2[i] = float(lista2[i])\n",
        "            break\n",
        "    except:\n",
        "        print(\"Digite apenas valores numéricos\")\n",
        "\n",
        "# Imprimindo o Relatório sobre a Primeira Variável\n",
        "print(\"\\n\"+\"-\"*70)\n",
        "print(f'{\"Medidas Descritivas da Primeira Variável\":^70}')\n",
        "print(\"-\"*70)\n",
        "print(f\"* Número de Elementos: {len(lista1):.2f}\")\n",
        "print(f\"* Média: {calcular_media(lista1):.2f}\")\n",
        "print(f\"* Mediana: {calcular_mediana(lista1):.2f}\")\n",
        "print(f\"* Moda: {calcular_moda(lista1)}\")\n",
        "print(f\"* Variância: {calcular_variancia(lista1):.2f}\")\n",
        "print(f\"* Desvio Padrão: {calcular_desviopadrao(lista1):.2f}\")\n",
        "print(f\"* Amplitude Total: {calcular_amplitude(lista1):.2f}\")\n",
        "print(f\"* Primeiro Quartil: {calcular_quartil(lista1, 1):.2f}\")\n",
        "print(f\"* Terceiro Quartil: {calcular_quartil(lista1, 3):.2f}\")\n",
        "print(f\"* Amplitude Interquartílica: {calcular_quartil(lista1, 3)- calcular_quartil(lista1, 1):.2f}\")\n",
        "print(f\"* Limite Superior do Box Plot: {calcular_limitesuperior(lista1):.2f}\")\n",
        "print(f\"* Limite Inferior do Box Plot: {calcular_limiteinferior(lista1):.2f}\")\n",
        "print(f\"* Número de Outliers Baixos: {calcular_outbaixo(lista1):.2f}\")\n",
        "print(f\"* Número de Outliers Altos: {calcular_outalto(lista1):.2f}\")\n",
        "print(\"-\"*70 + \"\\n\")\n",
        "\n",
        "# Imprimindo o Relatório sobre a Segunda Variável\n",
        "print(\"-\"*70)\n",
        "print(f'{\"Medidas Descritivas da Segunda Variável\":^70}')\n",
        "print(\"-\"*70)\n",
        "print(f\"* Número de Elementos: {len(lista2):.2f}\")\n",
        "print(f\"* Média: {calcular_media(lista2):.2f}\")\n",
        "print(f\"* Mediana: {calcular_mediana(lista2):.2f}\")\n",
        "print(f\"* Moda: {calcular_moda(lista2)}\")\n",
        "print(f\"* Variância: {calcular_variancia(lista2):.2f}\")\n",
        "print(f\"* Desvio Padrão: {calcular_desviopadrao(lista2):.2f}\")\n",
        "print(f\"* Amplitude Total: {calcular_amplitude(lista2):.2f}\")\n",
        "print(f\"* Primeiro Quartil: {calcular_quartil(lista2, 1):.2f}\")\n",
        "print(f\"* Terceiro Quartil: {calcular_quartil(lista2, 3):.2f}\")\n",
        "print(f\"* Amplitude Interquartílica: {calcular_quartil(lista2, 3)- calcular_quartil(lista2, 1):.2f}\")\n",
        "print(f\"* Limite Superior do Box Plot: {calcular_limitesuperior(lista2):.2f}\")\n",
        "print(f\"* Limite Inferior do Box Plot: {calcular_limiteinferior(lista2):.2f}\")\n",
        "print(f\"* Número de Possíveis Outliers Baixos: {calcular_outbaixo(lista2):.2f}\")\n",
        "print(f\"* Número de Possíveis Outliers Altos: {calcular_outalto(lista2):.2f}\")\n",
        "print(\"-\"*70 + \"\\n\")\n",
        "\n",
        "# Imprimindo o Relatório sobre a Relação entre as variáveis\n",
        "print(\"-\"*70)\n",
        "print(f'{\"Relação Entre as Variáveis\":^70}')\n",
        "print(\"-\"*70)\n",
        "# Se os conjuntos de dados informados tiverem tamanhos diferentes, será\n",
        "# impresso no relatório que não será possível calcular relações entre\n",
        "# as variáveis. Caso sejam do mesmo tamanho, será feito uma verificação\n",
        "# do valor do coeficiente linear da regressão afim de fazer uma melhor\n",
        "# formatação caso o seu valor seja positivo, negativo ou nulo.\n",
        "if len(lista1) == len(lista2):\n",
        "    print(f\"* Coeficiente de Correlação de Pearson: {calcular_pearson(lista1,lista2)}\")\n",
        "    print(f\"* Coeficiente de Determinação r²: {calcular_r2(lista1, lista2)}\")\n",
        "    if (calcular_a(lista1, lista2) == \"Não se Aplica\"):\n",
        "        print(\"* Equação de Regressão Linear: Não se Aplica\")\n",
        "    elif (calcular_a(lista1, lista2)>0):\n",
        "        print(f\"* Equação de Regressão Linear: y = {calcular_b(lista1, lista2):.2f}*x +{calcular_a(lista1, lista2):.2f} \")\n",
        "    elif (calcular_a(lista1, lista2)<0):\n",
        "        print(f\"* Equação de Regressão Linear: y = {calcular_b(lista1, lista2):.2f}*x {calcular_a(lista1, lista2):.2f} \")\n",
        "    else:\n",
        "        print(f\"* Equação de Regressão Linear: y = {calcular_b(lista1, lista2):.2f}*x\")\n",
        "    print(\"-\"*70 + \"\\n\")\n",
        "else:\n",
        "    print(\"\\n\")\n",
        "    print(f'{\"Não Foi possível calcular, pois os conjuntos\":^70}')\n",
        "    print(f'{\"de dados possuem tamanhos diferentes\":^70}')\n",
        "    print(\"\\n\\n\"+\"-\"*70)\n"
      ],
      "metadata": {
        "colab": {
          "base_uri": "https://localhost:8080/"
        },
        "id": "vPnR4wHwXZQA",
        "outputId": "de2bf0df-d28e-48a2-e1d2-39095cf02cf8"
      },
      "execution_count": null,
      "outputs": [
        {
          "output_type": "stream",
          "name": "stdout",
          "text": [
            "Digite os valores da variável primeira quantitativa separados por espaço: 1 2 3 4 5\n",
            "Digite os valores da variável segunda quantitativa separados por espaço: 1 2 4 5 8\n",
            "\n",
            "----------------------------------------------------------------------\n",
            "               Medidas Descritivas da Primeira Variável               \n",
            "----------------------------------------------------------------------\n",
            "* Número de Elementos: 5.00\n",
            "* Média: 3.00\n",
            "* Mediana: 3.00\n",
            "* Moda: Não se Aplica\n",
            "* Variância: 2.50\n",
            "* Desvio Padrão: 1.58\n",
            "* Amplitude Total: 4.00\n",
            "* Primeiro Quartil: 2.00\n",
            "* Terceiro Quartil: 4.00\n",
            "* Amplitude Interquartílica: 2.00\n",
            "* Limite Superior do Box Plot: 7.00\n",
            "* Limite Inferior do Box Plot: -1.00\n",
            "* Número de Outliers Baixos: 0.00\n",
            "* Número de Outliers Altos: 0.00\n",
            "----------------------------------------------------------------------\n",
            "\n",
            "----------------------------------------------------------------------\n",
            "               Medidas Descritivas da Segunda Variável                \n",
            "----------------------------------------------------------------------\n",
            "* Número de Elementos: 5.00\n",
            "* Média: 4.00\n",
            "* Mediana: 4.00\n",
            "* Moda: Não se Aplica\n",
            "* Variância: 7.50\n",
            "* Desvio Padrão: 2.74\n",
            "* Amplitude Total: 7.00\n",
            "* Primeiro Quartil: 2.00\n",
            "* Terceiro Quartil: 5.00\n",
            "* Amplitude Interquartílica: 3.00\n",
            "* Limite Superior do Box Plot: 9.50\n",
            "* Limite Inferior do Box Plot: -2.50\n",
            "* Número de Possíveis Outliers Baixos: 0.00\n",
            "* Número de Possíveis Outliers Altos: 0.00\n",
            "----------------------------------------------------------------------\n",
            "\n",
            "----------------------------------------------------------------------\n",
            "                      Relação Entre as Variáveis                      \n",
            "----------------------------------------------------------------------\n",
            "* Coeficiente de Correlação de Pearson: 0.9815\n",
            "* Coeficiente de Determinação r²: 0.9633\n",
            "* Equação de Regressão Linear: y = 1.70*x -1.10 \n",
            "----------------------------------------------------------------------\n",
            "\n"
          ]
        }
      ]
    }
  ]
}
